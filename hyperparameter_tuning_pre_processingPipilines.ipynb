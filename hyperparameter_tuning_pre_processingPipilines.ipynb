{
  "nbformat": 4,
  "nbformat_minor": 0,
  "metadata": {
    "colab": {
      "name": "hyperparameter_tuning_pre-processingPipilines.ipynb",
      "provenance": [],
      "collapsed_sections": [],
      "authorship_tag": "ABX9TyOKU4aTdI7CAXi93xvCGFjV",
      "include_colab_link": true
    },
    "kernelspec": {
      "name": "python3",
      "display_name": "Python 3"
    },
    "language_info": {
      "name": "python"
    }
  },
  "cells": [
    {
      "cell_type": "markdown",
      "metadata": {
        "id": "view-in-github",
        "colab_type": "text"
      },
      "source": [
        "<a href=\"https://colab.research.google.com/github/Amit32624/ml-basics_by-algorithms/blob/main/hyperparameter_tuning_pre_processingPipilines.ipynb\" target=\"_parent\"><img src=\"https://colab.research.google.com/assets/colab-badge.svg\" alt=\"Open In Colab\"/></a>"
      ]
    },
    {
      "cell_type": "code",
      "metadata": {
        "id": "p3BSZcWRXFNb"
      },
      "source": [
        "# Import modules we'll need for this notebook\n",
        "import pandas as pd\n",
        "from sklearn.linear_model import LinearRegression\n",
        "from sklearn.metrics import mean_squared_error, r2_score\n",
        "from sklearn.model_selection import train_test_split\n",
        "import numpy as np\n",
        "import matplotlib.pyplot as plt\n",
        "%matplotlib inline"
      ],
      "execution_count": 1,
      "outputs": []
    },
    {
      "cell_type": "code",
      "metadata": {
        "colab": {
          "base_uri": "https://localhost:8080/"
        },
        "id": "LKt8HHRLXjru",
        "outputId": "56020da8-e0e1-4d64-fc87-b64ae3794204"
      },
      "source": [
        "# load the training dataset\n",
        "!wget https://raw.githubusercontent.com/MicrosoftDocs/mslearn-introduction-to-machine-learning/main/Data/ml-basics/daily-bike-share.csv\n",
        "bike_data = pd.read_csv('daily-bike-share.csv')"
      ],
      "execution_count": 2,
      "outputs": [
        {
          "output_type": "stream",
          "name": "stdout",
          "text": [
            "--2021-11-13 07:38:07--  https://raw.githubusercontent.com/MicrosoftDocs/mslearn-introduction-to-machine-learning/main/Data/ml-basics/daily-bike-share.csv\n",
            "Resolving raw.githubusercontent.com (raw.githubusercontent.com)... 185.199.108.133, 185.199.109.133, 185.199.110.133, ...\n",
            "Connecting to raw.githubusercontent.com (raw.githubusercontent.com)|185.199.108.133|:443... connected.\n",
            "HTTP request sent, awaiting response... 200 OK\n",
            "Length: 48800 (48K) [text/plain]\n",
            "Saving to: ‘daily-bike-share.csv’\n",
            "\n",
            "daily-bike-share.cs 100%[===================>]  47.66K  --.-KB/s    in 0.007s  \n",
            "\n",
            "2021-11-13 07:38:08 (6.63 MB/s) - ‘daily-bike-share.csv’ saved [48800/48800]\n",
            "\n"
          ]
        }
      ]
    },
    {
      "cell_type": "code",
      "metadata": {
        "colab": {
          "base_uri": "https://localhost:8080/",
          "height": 110
        },
        "id": "hq48MLflXoIJ",
        "outputId": "cbe83e61-f22e-474b-93e3-1c21b3bf3065"
      },
      "source": [
        "bike_data.head(2)"
      ],
      "execution_count": 3,
      "outputs": [
        {
          "output_type": "execute_result",
          "data": {
            "text/html": [
              "<div>\n",
              "<style scoped>\n",
              "    .dataframe tbody tr th:only-of-type {\n",
              "        vertical-align: middle;\n",
              "    }\n",
              "\n",
              "    .dataframe tbody tr th {\n",
              "        vertical-align: top;\n",
              "    }\n",
              "\n",
              "    .dataframe thead th {\n",
              "        text-align: right;\n",
              "    }\n",
              "</style>\n",
              "<table border=\"1\" class=\"dataframe\">\n",
              "  <thead>\n",
              "    <tr style=\"text-align: right;\">\n",
              "      <th></th>\n",
              "      <th>instant</th>\n",
              "      <th>dteday</th>\n",
              "      <th>season</th>\n",
              "      <th>yr</th>\n",
              "      <th>mnth</th>\n",
              "      <th>holiday</th>\n",
              "      <th>weekday</th>\n",
              "      <th>workingday</th>\n",
              "      <th>weathersit</th>\n",
              "      <th>temp</th>\n",
              "      <th>atemp</th>\n",
              "      <th>hum</th>\n",
              "      <th>windspeed</th>\n",
              "      <th>rentals</th>\n",
              "    </tr>\n",
              "  </thead>\n",
              "  <tbody>\n",
              "    <tr>\n",
              "      <th>0</th>\n",
              "      <td>1</td>\n",
              "      <td>1/1/2011</td>\n",
              "      <td>1</td>\n",
              "      <td>0</td>\n",
              "      <td>1</td>\n",
              "      <td>0</td>\n",
              "      <td>6</td>\n",
              "      <td>0</td>\n",
              "      <td>2</td>\n",
              "      <td>0.344167</td>\n",
              "      <td>0.363625</td>\n",
              "      <td>0.805833</td>\n",
              "      <td>0.160446</td>\n",
              "      <td>331</td>\n",
              "    </tr>\n",
              "    <tr>\n",
              "      <th>1</th>\n",
              "      <td>2</td>\n",
              "      <td>1/2/2011</td>\n",
              "      <td>1</td>\n",
              "      <td>0</td>\n",
              "      <td>1</td>\n",
              "      <td>0</td>\n",
              "      <td>0</td>\n",
              "      <td>0</td>\n",
              "      <td>2</td>\n",
              "      <td>0.363478</td>\n",
              "      <td>0.353739</td>\n",
              "      <td>0.696087</td>\n",
              "      <td>0.248539</td>\n",
              "      <td>131</td>\n",
              "    </tr>\n",
              "  </tbody>\n",
              "</table>\n",
              "</div>"
            ],
            "text/plain": [
              "   instant    dteday  season  yr  ...     atemp       hum  windspeed  rentals\n",
              "0        1  1/1/2011       1   0  ...  0.363625  0.805833   0.160446      331\n",
              "1        2  1/2/2011       1   0  ...  0.353739  0.696087   0.248539      131\n",
              "\n",
              "[2 rows x 14 columns]"
            ]
          },
          "metadata": {},
          "execution_count": 3
        }
      ]
    },
    {
      "cell_type": "code",
      "metadata": {
        "id": "lr3K4ikvXqZE"
      },
      "source": [
        "bike_data['day'] = pd.DatetimeIndex(bike_data['dteday']).day"
      ],
      "execution_count": 4,
      "outputs": []
    },
    {
      "cell_type": "code",
      "metadata": {
        "colab": {
          "base_uri": "https://localhost:8080/",
          "height": 110
        },
        "id": "HKSZdkrxXluj",
        "outputId": "3e2080ef-3b81-44a9-8588-7e784fd37fbc"
      },
      "source": [
        "bike_data.head(2)"
      ],
      "execution_count": 5,
      "outputs": [
        {
          "output_type": "execute_result",
          "data": {
            "text/html": [
              "<div>\n",
              "<style scoped>\n",
              "    .dataframe tbody tr th:only-of-type {\n",
              "        vertical-align: middle;\n",
              "    }\n",
              "\n",
              "    .dataframe tbody tr th {\n",
              "        vertical-align: top;\n",
              "    }\n",
              "\n",
              "    .dataframe thead th {\n",
              "        text-align: right;\n",
              "    }\n",
              "</style>\n",
              "<table border=\"1\" class=\"dataframe\">\n",
              "  <thead>\n",
              "    <tr style=\"text-align: right;\">\n",
              "      <th></th>\n",
              "      <th>instant</th>\n",
              "      <th>dteday</th>\n",
              "      <th>season</th>\n",
              "      <th>yr</th>\n",
              "      <th>mnth</th>\n",
              "      <th>holiday</th>\n",
              "      <th>weekday</th>\n",
              "      <th>workingday</th>\n",
              "      <th>weathersit</th>\n",
              "      <th>temp</th>\n",
              "      <th>atemp</th>\n",
              "      <th>hum</th>\n",
              "      <th>windspeed</th>\n",
              "      <th>rentals</th>\n",
              "      <th>day</th>\n",
              "    </tr>\n",
              "  </thead>\n",
              "  <tbody>\n",
              "    <tr>\n",
              "      <th>0</th>\n",
              "      <td>1</td>\n",
              "      <td>1/1/2011</td>\n",
              "      <td>1</td>\n",
              "      <td>0</td>\n",
              "      <td>1</td>\n",
              "      <td>0</td>\n",
              "      <td>6</td>\n",
              "      <td>0</td>\n",
              "      <td>2</td>\n",
              "      <td>0.344167</td>\n",
              "      <td>0.363625</td>\n",
              "      <td>0.805833</td>\n",
              "      <td>0.160446</td>\n",
              "      <td>331</td>\n",
              "      <td>1</td>\n",
              "    </tr>\n",
              "    <tr>\n",
              "      <th>1</th>\n",
              "      <td>2</td>\n",
              "      <td>1/2/2011</td>\n",
              "      <td>1</td>\n",
              "      <td>0</td>\n",
              "      <td>1</td>\n",
              "      <td>0</td>\n",
              "      <td>0</td>\n",
              "      <td>0</td>\n",
              "      <td>2</td>\n",
              "      <td>0.363478</td>\n",
              "      <td>0.353739</td>\n",
              "      <td>0.696087</td>\n",
              "      <td>0.248539</td>\n",
              "      <td>131</td>\n",
              "      <td>2</td>\n",
              "    </tr>\n",
              "  </tbody>\n",
              "</table>\n",
              "</div>"
            ],
            "text/plain": [
              "   instant    dteday  season  yr  ...       hum  windspeed  rentals  day\n",
              "0        1  1/1/2011       1   0  ...  0.805833   0.160446      331    1\n",
              "1        2  1/2/2011       1   0  ...  0.696087   0.248539      131    2\n",
              "\n",
              "[2 rows x 15 columns]"
            ]
          },
          "metadata": {},
          "execution_count": 5
        }
      ]
    },
    {
      "cell_type": "code",
      "metadata": {
        "colab": {
          "base_uri": "https://localhost:8080/"
        },
        "id": "8Ocm5jWWX3Gl",
        "outputId": "3dba21c3-c88b-4e43-ff05-2f40ff5f5262"
      },
      "source": [
        "numeric_features = ['temp','atemp','hum','windspeed']\n",
        "categorical_features =['season','mnth','holiday','weekday','workingdat','weathersit','day']\n",
        "bike_data[numeric_features +['rentals']].describe()\n",
        "print(bike_data.head())"
      ],
      "execution_count": 6,
      "outputs": [
        {
          "output_type": "stream",
          "name": "stdout",
          "text": [
            "   instant    dteday  season  yr  ...       hum  windspeed  rentals  day\n",
            "0        1  1/1/2011       1   0  ...  0.805833   0.160446      331    1\n",
            "1        2  1/2/2011       1   0  ...  0.696087   0.248539      131    2\n",
            "2        3  1/3/2011       1   0  ...  0.437273   0.248309      120    3\n",
            "3        4  1/4/2011       1   0  ...  0.590435   0.160296      108    4\n",
            "4        5  1/5/2011       1   0  ...  0.436957   0.186900       82    5\n",
            "\n",
            "[5 rows x 15 columns]\n"
          ]
        }
      ]
    },
    {
      "cell_type": "code",
      "metadata": {
        "id": "MzkXpqVvYlad"
      },
      "source": [
        "# Separate features and labels\n",
        "# After separating the dataset, we now have numpy arrays named **X** containing the features, and **y** containing the labels.\n",
        "X, y = bike_data[['season','mnth', 'holiday','weekday','workingday','weathersit','temp', 'atemp', 'hum', 'windspeed']].values, bike_data['rentals'].values"
      ],
      "execution_count": 7,
      "outputs": []
    },
    {
      "cell_type": "code",
      "metadata": {
        "colab": {
          "base_uri": "https://localhost:8080/"
        },
        "id": "nqoIZH2FYqMb",
        "outputId": "f14da389-c681-4b0d-be3d-22ffa8daff14"
      },
      "source": [
        "#Splitting the data into train and train_test_split\n",
        "X_train,X_test,y_train,y_test = train_test_split(X,y,test_size=0.30,random_state=0)\n",
        "X_train.shape[0],X_test.shape[0],X_train.shape"
      ],
      "execution_count": 8,
      "outputs": [
        {
          "output_type": "execute_result",
          "data": {
            "text/plain": [
              "(511, 220, (511, 10))"
            ]
          },
          "metadata": {},
          "execution_count": 8
        }
      ]
    },
    {
      "cell_type": "markdown",
      "metadata": {
        "id": "eUy0vwCoZUdT"
      },
      "source": [
        "Now we're ready to train a model by fitting a boosting ensemble algorithm, as in our last notebook. Recall that a Gradient Boosting estimator, is like a Random Forest algorithm, but instead of building them all trees independently and taking the average result, each tree is built on the outputs of the previous one in an attempt to incrementally reduce the loss (error) in the model.Now we're ready to train a model by fitting a boosting ensemble algorithm, as in our last notebook. Recall that a Gradient Boosting estimator, is like a Random Forest algorithm, but instead of building them all trees independently and taking the average result, each tree is built on the outputs of the previous one in an attempt to incrementally reduce the loss (error) in the model."
      ]
    },
    {
      "cell_type": "code",
      "metadata": {
        "colab": {
          "base_uri": "https://localhost:8080/",
          "height": 524
        },
        "id": "ysC-p2CzZIdB",
        "outputId": "abd1ea0c-d1a8-457d-dbca-f2a0012cd2ac"
      },
      "source": [
        "from sklearn.ensemble import GradientBoostingRegressor,RandomForestRegressor\n",
        "model = GradientBoostingRegressor()\n",
        "model.fit(X_train,y_train)\n",
        "print(model,'\\n')\n",
        "\n",
        "# Evaluating the model\n",
        "predictions = model.predict(X_test)\n",
        "mse = mean_squared_error(y_test,predictions)\n",
        "print('MSE',mse)\n",
        "rmse = np.sqrt(mse)\n",
        "print('RMSE',rmse)\n",
        "r2 = r2_score(y_test,predictions)\n",
        "print('R2',r2)\n",
        "\n",
        "# Plot predicted vs actual\n",
        "plt.scatter(y_test, predictions)\n",
        "plt.xlabel('Actual Labels')\n",
        "plt.ylabel('Predicted Labels')\n",
        "plt.title('Daily Bike Share Predictions')\n",
        "# overlay the regression line\n",
        "z = np.polyfit(y_test, predictions, 1)\n",
        "p = np.poly1d(z)\n",
        "plt.plot(y_test,p(y_test), color='magenta')\n",
        "plt.show()\n"
      ],
      "execution_count": 9,
      "outputs": [
        {
          "output_type": "stream",
          "name": "stdout",
          "text": [
            "GradientBoostingRegressor(alpha=0.9, ccp_alpha=0.0, criterion='friedman_mse',\n",
            "                          init=None, learning_rate=0.1, loss='ls', max_depth=3,\n",
            "                          max_features=None, max_leaf_nodes=None,\n",
            "                          min_impurity_decrease=0.0, min_impurity_split=None,\n",
            "                          min_samples_leaf=1, min_samples_split=2,\n",
            "                          min_weight_fraction_leaf=0.0, n_estimators=100,\n",
            "                          n_iter_no_change=None, presort='deprecated',\n",
            "                          random_state=None, subsample=1.0, tol=0.0001,\n",
            "                          validation_fraction=0.1, verbose=0, warm_start=False) \n",
            "\n",
            "MSE 104200.89075344456\n",
            "RMSE 322.80162755699445\n",
            "R2 0.7957206937053452\n"
          ]
        },
        {
          "output_type": "display_data",
          "data": {
            "image/png": "[encoded data removed]",
            "text/plain": [
              "<Figure size 432x288 with 1 Axes>"
            ]
          },
          "metadata": {
            "needs_background": "light"
          }
        }
      ]
    },
    {
      "cell_type": "markdown",
      "metadata": {
        "id": "aSl5aVuaO_1R"
      },
      "source": [
        "## Hyperparameter tuning Example 1\n"
      ]
    },
    {
      "cell_type": "markdown",
      "metadata": {
        "id": "TNUis5xXPCvj"
      },
      "source": [
        "The specific hyperparameters for an estimator vary based on the algorithm that the estimator encapsulates. In the case of the GradientBoostingRegressor estimator, the algorithm is an ensemble that combines multiple decision trees to create an overall predictive model. You can learn about the hyperparameters for this estimator in the Scikit-Learn documentation."
      ]
    },
    {
      "cell_type": "code",
      "metadata": {
        "colab": {
          "base_uri": "https://localhost:8080/",
          "height": 559
        },
        "id": "fD63TGpJnWJO",
        "outputId": "a5773d06-8e6c-417f-9fcd-130a4e2156cd"
      },
      "source": [
        "from sklearn.model_selection import GridSearchCV\n",
        "from sklearn.metrics import make_scorer, r2_score\n",
        "\n",
        "# Using a Gradient Boosting algo\n",
        "algo = GradientBoostingRegressor()\n",
        "\n",
        "# Hyperparamters to try\n",
        "params = {\n",
        "    'learning_rate':[0.1,0.5,1.0],\n",
        "    'n_estimators':[50,100,15]\n",
        "}\n",
        "\n",
        "# Finding the best hyperparameter combination to optimize the R2 scoe\n",
        "score = make_scorer(r2_score)\n",
        "gridsearch = GridSearchCV(algo,params,scoring=score,cv=4,return_train_score=True)\n",
        "gridsearch.fit(X_train,y_train)\n",
        "print(\"Best parameter combination: \",gridsearch.best_params_,'\\n')\n",
        "\n",
        "# Getting the best model\n",
        "model = gridsearch.best_estimator_\n",
        "print(model,'\\n')\n",
        "\n",
        "# Evualting the model\n",
        "predictions = model.predict(X_test)\n",
        "mse = mean_squared_error(y_test,predictions)\n",
        "print('MSE',mse)\n",
        "rmse = np.sqrt(mse)\n",
        "print('RMSE',rmse)\n",
        "r2 = r2_score(y_test,predictions)\n",
        "print('R2',r2)\n",
        "\n",
        "# Plot predicted vs actual\n",
        "plt.scatter(y_test, predictions)\n",
        "plt.xlabel('Actual Labels')\n",
        "plt.ylabel('Predicted Labels')\n",
        "plt.title('Daily Bike Share Predictions')\n",
        "# overlay the regression line\n",
        "z = np.polyfit(y_test, predictions, 1)\n",
        "p = np.poly1d(z)\n",
        "plt.plot(y_test,p(y_test), color='magenta')\n",
        "plt.show()"
      ],
      "execution_count": 13,
      "outputs": [
        {
          "output_type": "stream",
          "name": "stdout",
          "text": [
            "Best parameter combination:  {'learning_rate': 0.1, 'n_estimators': 50} \n",
            "\n",
            "GradientBoostingRegressor(alpha=0.9, ccp_alpha=0.0, criterion='friedman_mse',\n",
            "                          init=None, learning_rate=0.1, loss='ls', max_depth=3,\n",
            "                          max_features=None, max_leaf_nodes=None,\n",
            "                          min_impurity_decrease=0.0, min_impurity_split=None,\n",
            "                          min_samples_leaf=1, min_samples_split=2,\n",
            "                          min_weight_fraction_leaf=0.0, n_estimators=50,\n",
            "                          n_iter_no_change=None, presort='deprecated',\n",
            "                          random_state=None, subsample=1.0, tol=0.0001,\n",
            "                          validation_fraction=0.1, verbose=0, warm_start=False) \n",
            "\n",
            "MSE 109088.91624344788\n",
            "RMSE 330.2861127014696\n",
            "R2 0.7861380265224789\n"
          ]
        },
        {
          "output_type": "display_data",
          "data": {
            "image/png": "[encoded data removed]",
            "text/plain": [
              "<Figure size 432x288 with 1 Axes>"
            ]
          },
          "metadata": {
            "needs_background": "light"
          }
        }
      ]
    },
    {
      "cell_type": "code",
      "metadata": {
        "colab": {
          "base_uri": "https://localhost:8080/",
          "height": 559
        },
        "id": "vcHR4Nt2SH2H",
        "outputId": "b21dbaef-4bbf-44c9-ddf9-856caca22430"
      },
      "source": [
        "from sklearn.model_selection import GridSearchCV\n",
        "from sklearn.metrics import make_scorer, r2_score\n",
        "\n",
        "# Using a Gradient Boosting algo\n",
        "algo = GradientBoostingRegressor()\n",
        "\n",
        "# Hyperparamters to try\n",
        "params = {\n",
        "    'learning_rate':[0.1,0.5,1.0],\n",
        "    'n_estimators':[50,100,15],\n",
        "    'alpha':[0.2,0.7,0.9]\n",
        "}\n",
        "\n",
        "# Finding the best hyperparameter combination to optimize the R2 scoe\n",
        "score = make_scorer(r2_score)\n",
        "gridsearch = GridSearchCV(algo,params,scoring=score,cv=4,return_train_score=True)\n",
        "gridsearch.fit(X_train,y_train)\n",
        "print(\"Best parameter combination: \",gridsearch.best_params_,'\\n')\n",
        "\n",
        "# Getting the best model\n",
        "model = gridsearch.best_estimator_\n",
        "print(model,'\\n')\n",
        "\n",
        "# Evualting the model\n",
        "predictions = model.predict(X_test)\n",
        "mse = mean_squared_error(y_test,predictions)\n",
        "print('MSE',mse)\n",
        "rmse = np.sqrt(mse)\n",
        "print('RMSE',rmse)\n",
        "r2 = r2_score(y_test,predictions)\n",
        "print('R2',r2)\n",
        "\n",
        "# Plot predicted vs actual\n",
        "plt.scatter(y_test, predictions)\n",
        "plt.xlabel('Actual Labels')\n",
        "plt.ylabel('Predicted Labels')\n",
        "plt.title('Daily Bike Share Predictions')\n",
        "# overlay the regression line\n",
        "z = np.polyfit(y_test, predictions, 1)\n",
        "p = np.poly1d(z)\n",
        "plt.plot(y_test,p(y_test), color='magenta')\n",
        "plt.show()"
      ],
      "execution_count": 15,
      "outputs": [
        {
          "output_type": "stream",
          "name": "stdout",
          "text": [
            "Best parameter combination:  {'alpha': 0.2, 'learning_rate': 0.1, 'n_estimators': 50} \n",
            "\n",
            "GradientBoostingRegressor(alpha=0.2, ccp_alpha=0.0, criterion='friedman_mse',\n",
            "                          init=None, learning_rate=0.1, loss='ls', max_depth=3,\n",
            "                          max_features=None, max_leaf_nodes=None,\n",
            "                          min_impurity_decrease=0.0, min_impurity_split=None,\n",
            "                          min_samples_leaf=1, min_samples_split=2,\n",
            "                          min_weight_fraction_leaf=0.0, n_estimators=50,\n",
            "                          n_iter_no_change=None, presort='deprecated',\n",
            "                          random_state=None, subsample=1.0, tol=0.0001,\n",
            "                          validation_fraction=0.1, verbose=0, warm_start=False) \n",
            "\n",
            "MSE 108970.1840326088\n",
            "RMSE 330.10632231541524\n",
            "R2 0.7863707935697628\n"
          ]
        },
        {
          "output_type": "display_data",
          "data": {
            "image/png": "[encoded data removed]",
            "text/plain": [
              "<Figure size 432x288 with 1 Axes>"
            ]
          },
          "metadata": {
            "needs_background": "light"
          }
        }
      ]
    },
    {
      "cell_type": "markdown",
      "metadata": {
        "id": "_q12_v4_Wi-D"
      },
      "source": [
        "## Demo of how to use Pre-processing pipelines"
      ]
    },
    {
      "cell_type": "code",
      "metadata": {
        "colab": {
          "base_uri": "https://localhost:8080/"
        },
        "id": "Bd6SmoaXWidS",
        "outputId": "2a48ea2f-b4de-492f-b79c-aeaaa0854e8a"
      },
      "source": [
        "from sklearn.compose import ColumnTransformer\n",
        "from sklearn.pipeline import Pipeline\n",
        "from sklearn.impute import SimpleImputer\n",
        "from sklearn.preprocessing import StandardScaler, OneHotEncoder\n",
        "from sklearn.linear_model import LinearRegression\n",
        "\n",
        "# Defining pre-processing for numeric columns\n",
        "numeric_features =[6,7,8,9]\n",
        "numeric_transformer = Pipeline(steps=[\n",
        "                                      ('Scaler',StandardScaler())\n",
        "])\n",
        "\n",
        "# Defining pre-processing for categorical columns\n",
        "categorical_features =[0,1,2,3,4,5]\n",
        "categorical_tranformer = Pipeline(steps=[(\n",
        "    'onehot',OneHotEncoder(handle_unknown='ignore')\n",
        ")])\n",
        "\n",
        "# Combining both pre-processing steps\n",
        "preprocessor = ColumnTransformer(\n",
        "    transformers =[\n",
        "                   ('num',numeric_transformer,numeric_features),\n",
        "                   ('cat',categorical_tranformer,categorical_features)\n",
        "])\n",
        "\n",
        "#Creating pr=processing and training pipeline\n",
        "pipeline = Pipeline(steps=[('preprocessor',preprocessor),\n",
        "                                  ('regressor',GradientBoostingRegressor())\n",
        "])\n",
        "\n",
        "\n",
        "model = pipeline.fit(X_train,y_train)\n",
        "print(model)"
      ],
      "execution_count": 19,
      "outputs": [
        {
          "output_type": "stream",
          "name": "stdout",
          "text": [
            "Pipeline(memory=None,\n",
            "         steps=[('preprocessor',\n",
            "                 ColumnTransformer(n_jobs=None, remainder='drop',\n",
            "                                   sparse_threshold=0.3,\n",
            "                                   transformer_weights=None,\n",
            "                                   transformers=[('num',\n",
            "                                                  Pipeline(memory=None,\n",
            "                                                           steps=[('Scaler',\n",
            "                                                                   StandardScaler(copy=True,\n",
            "                                                                                  with_mean=True,\n",
            "                                                                                  with_std=True))],\n",
            "                                                           verbose=False),\n",
            "                                                  [6, 7, 8, 9]),\n",
            "                                                 ('cat',\n",
            "                                                  Pipeline(memory=None,\n",
            "                                                           steps=[('onehot',\n",
            "                                                                   OneHotEncoder(categories='...\n",
            "                                           learning_rate=0.1, loss='ls',\n",
            "                                           max_depth=3, max_features=None,\n",
            "                                           max_leaf_nodes=None,\n",
            "                                           min_impurity_decrease=0.0,\n",
            "                                           min_impurity_split=None,\n",
            "                                           min_samples_leaf=1,\n",
            "                                           min_samples_split=2,\n",
            "                                           min_weight_fraction_leaf=0.0,\n",
            "                                           n_estimators=100,\n",
            "                                           n_iter_no_change=None,\n",
            "                                           presort='deprecated',\n",
            "                                           random_state=None, subsample=1.0,\n",
            "                                           tol=0.0001, validation_fraction=0.1,\n",
            "                                           verbose=0, warm_start=False))],\n",
            "         verbose=False)\n"
          ]
        }
      ]
    },
    {
      "cell_type": "code",
      "metadata": {
        "colab": {
          "base_uri": "https://localhost:8080/",
          "height": 348
        },
        "id": "LDsybdEMbMIB",
        "outputId": "94f69982-5228-46e8-be35-b26c94a1c8b1"
      },
      "source": [
        "# Get predictions\n",
        "predictions = model.predict(X_test)\n",
        "\n",
        "# Display metrics\n",
        "mse = mean_squared_error(y_test, predictions)\n",
        "print(\"MSE:\", mse)\n",
        "rmse = np.sqrt(mse)\n",
        "print(\"RMSE:\", rmse)\n",
        "r2 = r2_score(y_test, predictions)\n",
        "print(\"R2:\", r2)\n",
        "\n",
        "# Plot predicted vs actual\n",
        "plt.scatter(y_test, predictions)\n",
        "plt.xlabel('Actual Labels')\n",
        "plt.ylabel('Predicted Labels')\n",
        "plt.title('Daily Bike Share Predictions')\n",
        "z = np.polyfit(y_test, predictions, 1)\n",
        "p = np.poly1d(z)\n",
        "plt.plot(y_test,p(y_test), color='magenta')\n",
        "plt.show()"
      ],
      "execution_count": 20,
      "outputs": [
        {
          "output_type": "stream",
          "name": "stdout",
          "text": [
            "MSE: 105269.8581021303\n",
            "RMSE: 324.4531678102871\n",
            "R2: 0.7936250503105314\n"
          ]
        },
        {
          "output_type": "display_data",
          "data": {
            "image/png": "[encoded data removed]",
            "text/plain": [
              "<Figure size 432x288 with 1 Axes>"
            ]
          },
          "metadata": {
            "needs_background": "light"
          }
        }
      ]
    },
    {
      "cell_type": "markdown",
      "metadata": {
        "id": "3dVpWu-UbQvS"
      },
      "source": [
        "Using the different eestimator\n"
      ]
    },
    {
      "cell_type": "code",
      "metadata": {
        "colab": {
          "base_uri": "https://localhost:8080/",
          "height": 876
        },
        "id": "3xAjIOrMbUwo",
        "outputId": "245420be-b03b-4291-8345-99c9cb2b68be"
      },
      "source": [
        "# Use a different estimator in the pipeline\n",
        "pipeline = Pipeline(steps=[('preprocessor', preprocessor),\n",
        "                           ('regressor', RandomForestRegressor())])\n",
        "\n",
        "\n",
        "# fit the pipeline to train a linear regression model on the training set\n",
        "model = pipeline.fit(X_train, (y_train))\n",
        "print (model, \"\\n\")\n",
        "\n",
        "# Get predictions\n",
        "predictions = model.predict(X_test)\n",
        "\n",
        "# Display metrics\n",
        "mse = mean_squared_error(y_test, predictions)\n",
        "print(\"MSE:\", mse)\n",
        "rmse = np.sqrt(mse)\n",
        "print(\"RMSE:\", rmse)\n",
        "r2 = r2_score(y_test, predictions)\n",
        "print(\"R2:\", r2)\n",
        "\n",
        "# Plot predicted vs actual\n",
        "plt.scatter(y_test, predictions)\n",
        "plt.xlabel('Actual Labels')\n",
        "plt.ylabel('Predicted Labels')\n",
        "plt.title('Daily Bike Share Predictions - Preprocessed')\n",
        "z = np.polyfit(y_test, predictions, 1)\n",
        "p = np.poly1d(z)\n",
        "plt.plot(y_test,p(y_test), color='magenta')\n",
        "plt.show()"
      ],
      "execution_count": 21,
      "outputs": [
        {
          "output_type": "stream",
          "name": "stdout",
          "text": [
            "Pipeline(memory=None,\n",
            "         steps=[('preprocessor',\n",
            "                 ColumnTransformer(n_jobs=None, remainder='drop',\n",
            "                                   sparse_threshold=0.3,\n",
            "                                   transformer_weights=None,\n",
            "                                   transformers=[('num',\n",
            "                                                  Pipeline(memory=None,\n",
            "                                                           steps=[('Scaler',\n",
            "                                                                   StandardScaler(copy=True,\n",
            "                                                                                  with_mean=True,\n",
            "                                                                                  with_std=True))],\n",
            "                                                           verbose=False),\n",
            "                                                  [6, 7, 8, 9]),\n",
            "                                                 ('cat',\n",
            "                                                  Pipeline(memory=None,\n",
            "                                                           steps=[('onehot',\n",
            "                                                                   OneHotEncoder(categories='...\n",
            "                 RandomForestRegressor(bootstrap=True, ccp_alpha=0.0,\n",
            "                                       criterion='mse', max_depth=None,\n",
            "                                       max_features='auto', max_leaf_nodes=None,\n",
            "                                       max_samples=None,\n",
            "                                       min_impurity_decrease=0.0,\n",
            "                                       min_impurity_split=None,\n",
            "                                       min_samples_leaf=1, min_samples_split=2,\n",
            "                                       min_weight_fraction_leaf=0.0,\n",
            "                                       n_estimators=100, n_jobs=None,\n",
            "                                       oob_score=False, random_state=None,\n",
            "                                       verbose=0, warm_start=False))],\n",
            "         verbose=False) \n",
            "\n",
            "MSE: 108114.54015454545\n",
            "RMSE: 328.80775561799857\n",
            "R2: 0.7880482296893794\n"
          ]
        },
        {
          "output_type": "display_data",
          "data": {
            "image/png": "[encoded data removed]",
            "text/plain": [
              "<Figure size 432x288 with 1 Axes>"
            ]
          },
          "metadata": {
            "needs_background": "light"
          }
        }
      ]
    },
    {
      "cell_type": "code",
      "metadata": {
        "colab": {
          "base_uri": "https://localhost:8080/"
        },
        "id": "ib11kyiPbhBi",
        "outputId": "16b21c46-5112-4e79-b4ef-87073e9aedfa"
      },
      "source": [
        "# Save the trained model\n",
        "import joblib\n",
        "filename='./bike-share.pkl'\n",
        "joblib.dump(model,filename)"
      ],
      "execution_count": 23,
      "outputs": [
        {
          "output_type": "execute_result",
          "data": {
            "text/plain": [
              "['./bike-share.pkl']"
            ]
          },
          "metadata": {},
          "execution_count": 23
        }
      ]
    },
    {
      "cell_type": "markdown",
      "metadata": {
        "id": "PHC669TFbvRQ"
      },
      "source": [
        "Now, we can load it whenever we need it, and use it to predict labels for new data. This is often called scoring or inferencing."
      ]
    },
    {
      "cell_type": "code",
      "metadata": {
        "colab": {
          "base_uri": "https://localhost:8080/"
        },
        "id": "Wglw2265bwBv",
        "outputId": "dabe18ea-8a22-4774-a5ab-04535b0862ee"
      },
      "source": [
        "loaded_model= joblib.load(filename)\n",
        "\n",
        "X_new = np.array([[1,1,0,3,1,1,0.226957,0.22927,0.436957,0.1869]]).astype('float64')\n",
        "print ('New sample: {}'.format(list(X_new[0])))"
      ],
      "execution_count": 25,
      "outputs": [
        {
          "output_type": "stream",
          "name": "stdout",
          "text": [
            "New sample: [1.0, 1.0, 0.0, 3.0, 1.0, 1.0, 0.226957, 0.22927, 0.436957, 0.1869]\n"
          ]
        }
      ]
    },
    {
      "cell_type": "code",
      "metadata": {
        "colab": {
          "base_uri": "https://localhost:8080/"
        },
        "id": "yjwqNMJTcAC_",
        "outputId": "445c295f-dcea-47dc-e282-bc45eaee9549"
      },
      "source": [
        "result = loaded_model.predict(X_new)\n",
        "print(result[0])"
      ],
      "execution_count": 28,
      "outputs": [
        {
          "output_type": "stream",
          "name": "stdout",
          "text": [
            "102.38\n"
          ]
        }
      ]
    },
    {
      "cell_type": "code",
      "metadata": {
        "colab": {
          "base_uri": "https://localhost:8080/"
        },
        "id": "v5r0ZPN0cP96",
        "outputId": "77d3d528-c042-404c-8507-cac0daeb0aa1"
      },
      "source": [
        "# An array of features based on five-day weather forecast\n",
        "X_new = np.array([[0,1,1,0,0,1,0.344167,0.363625,0.805833,0.160446],\n",
        "                  [0,1,0,1,0,1,0.363478,0.353739,0.696087,0.248539],\n",
        "                  [0,1,0,2,0,1,0.196364,0.189405,0.437273,0.248309],\n",
        "                  [0,1,0,3,0,1,0.2,0.212122,0.590435,0.160296],\n",
        "                  [0,1,0,4,0,1,0.226957,0.22927,0.436957,0.1869]])\n",
        "\n",
        "# Use the model to predict rentals\n",
        "results = loaded_model.predict(X_new)\n",
        "print('5-day rental predictions:')\n",
        "for prediction in results:\n",
        "    print(np.round(prediction))"
      ],
      "execution_count": 29,
      "outputs": [
        {
          "output_type": "stream",
          "name": "stdout",
          "text": [
            "5-day rental predictions:\n",
            "541.0\n",
            "704.0\n",
            "233.0\n",
            "185.0\n",
            "251.0\n"
          ]
        }
      ]
    },
    {
      "cell_type": "markdown",
      "metadata": {
        "id": "6EwaA54ynWLx"
      },
      "source": [
        "## Hyperparameter example 2 using GridSearch"
      ]
    },
    {
      "cell_type": "code",
      "metadata": {
        "id": "y6YEMZZunVKI"
      },
      "source": [
        "# Generating the dataset\n",
        "from sklearn.datasets import make_classification\n",
        "X,y = make_classification(n_samples=300,n_classes=2,n_features=10,n_redundant=0,random_state=23)"
      ],
      "execution_count": 34,
      "outputs": []
    },
    {
      "cell_type": "code",
      "metadata": {
        "colab": {
          "base_uri": "https://localhost:8080/"
        },
        "id": "QFmFuT3HpPa4",
        "outputId": "e9c56ce9-d681-427c-d875-84443594bc9d"
      },
      "source": [
        "# Let's examine the data\n",
        "X.shape,y.shape"
      ],
      "execution_count": 35,
      "outputs": [
        {
          "output_type": "execute_result",
          "data": {
            "text/plain": [
              "((300, 10), (300,))"
            ]
          },
          "metadata": {},
          "execution_count": 35
        }
      ]
    },
    {
      "cell_type": "code",
      "metadata": {
        "id": "H0JoaUIYpUMX"
      },
      "source": [
        "# Splitting the data into 80:20 ratio\n",
        "from sklearn.model_selection import train_test_split\n",
        "X_train,X_test,y_train,y_test = train_test_split(X,y,test_size=0.2)"
      ],
      "execution_count": 36,
      "outputs": []
    },
    {
      "cell_type": "code",
      "metadata": {
        "colab": {
          "base_uri": "https://localhost:8080/"
        },
        "id": "LMk42tjgpjzV",
        "outputId": "d7dc257e-c908-4574-9205-e71c20049322"
      },
      "source": [
        "#Let's examine the trained data now\n",
        "X_train.shape,y_train.shape"
      ],
      "execution_count": 37,
      "outputs": [
        {
          "output_type": "execute_result",
          "data": {
            "text/plain": [
              "((240, 10), (240,))"
            ]
          },
          "metadata": {},
          "execution_count": 37
        }
      ]
    },
    {
      "cell_type": "code",
      "metadata": {
        "id": "ljtGhwCOps_6"
      },
      "source": [
        "# Let's build the simple machine learning model with Random forest\n",
        "from sklearn.ensemble import RandomForestClassifier\n",
        "from sklearn.metrics import accuracy_score\n",
        "\n",
        "rf = RandomForestClassifier()"
      ],
      "execution_count": 38,
      "outputs": []
    },
    {
      "cell_type": "code",
      "metadata": {
        "colab": {
          "base_uri": "https://localhost:8080/"
        },
        "id": "mwMF0sG1p6rt",
        "outputId": "501b7360-2468-4bb0-8f16-ca8bed70eddc"
      },
      "source": [
        "# Fitting the model\n",
        "rf.fit(X_train,y_train)"
      ],
      "execution_count": 39,
      "outputs": [
        {
          "output_type": "execute_result",
          "data": {
            "text/plain": [
              "RandomForestClassifier(bootstrap=True, ccp_alpha=0.0, class_weight=None,\n",
              "                       criterion='gini', max_depth=None, max_features='auto',\n",
              "                       max_leaf_nodes=None, max_samples=None,\n",
              "                       min_impurity_decrease=0.0, min_impurity_split=None,\n",
              "                       min_samples_leaf=1, min_samples_split=2,\n",
              "                       min_weight_fraction_leaf=0.0, n_estimators=100,\n",
              "                       n_jobs=None, oob_score=False, random_state=None,\n",
              "                       verbose=0, warm_start=False)"
            ]
          },
          "metadata": {},
          "execution_count": 39
        }
      ]
    },
    {
      "cell_type": "code",
      "metadata": {
        "colab": {
          "base_uri": "https://localhost:8080/"
        },
        "id": "LMbdaNg6qBz7",
        "outputId": "f58da8be-c2ae-4d80-e7c8-0eda8a96c46d"
      },
      "source": [
        "rf.score(X_test,y_test)"
      ],
      "execution_count": 40,
      "outputs": [
        {
          "output_type": "execute_result",
          "data": {
            "text/plain": [
              "0.8333333333333334"
            ]
          },
          "metadata": {},
          "execution_count": 40
        }
      ]
    },
    {
      "cell_type": "code",
      "metadata": {
        "id": "XoBFDYlTqGYd"
      },
      "source": [
        "y_pred = rf.predict(X_test)"
      ],
      "execution_count": 41,
      "outputs": []
    },
    {
      "cell_type": "code",
      "metadata": {
        "colab": {
          "base_uri": "https://localhost:8080/"
        },
        "id": "0XiRF96FqJr5",
        "outputId": "27ca7902-9415-4c6c-aedb-f81cb7d0dd91"
      },
      "source": [
        "accuracy_score(y_pred,y_test)"
      ],
      "execution_count": 42,
      "outputs": [
        {
          "output_type": "execute_result",
          "data": {
            "text/plain": [
              "0.8333333333333334"
            ]
          },
          "metadata": {},
          "execution_count": 42
        }
      ]
    },
    {
      "cell_type": "code",
      "metadata": {
        "colab": {
          "base_uri": "https://localhost:8080/"
        },
        "id": "dKE2xzVnqQAc",
        "outputId": "79ec2f32-01d1-44ab-f582-818dd631861f"
      },
      "source": [
        "y_pred,y_test"
      ],
      "execution_count": 43,
      "outputs": [
        {
          "output_type": "execute_result",
          "data": {
            "text/plain": [
              "(array([1, 0, 0, 0, 1, 0, 0, 0, 0, 0, 0, 1, 1, 1, 1, 0, 0, 1, 0, 1, 0, 1,\n",
              "        0, 0, 0, 1, 1, 1, 1, 1, 1, 0, 1, 0, 0, 0, 1, 1, 1, 1, 0, 1, 1, 0,\n",
              "        1, 1, 0, 1, 1, 0, 0, 1, 1, 1, 1, 1, 1, 0, 1, 1]),\n",
              " array([1, 0, 0, 0, 1, 1, 0, 0, 1, 0, 0, 1, 1, 1, 1, 0, 0, 0, 0, 1, 0, 0,\n",
              "        0, 0, 1, 1, 0, 1, 1, 1, 1, 0, 1, 0, 0, 0, 0, 0, 1, 1, 0, 1, 0, 0,\n",
              "        1, 1, 0, 1, 1, 0, 0, 1, 1, 1, 1, 1, 1, 0, 1, 0]))"
            ]
          },
          "metadata": {},
          "execution_count": 43
        }
      ]
    },
    {
      "cell_type": "markdown",
      "metadata": {
        "id": "okcVGYcbqTeu"
      },
      "source": [
        "**Hyperparameter tuning**"
      ]
    },
    {
      "cell_type": "markdown",
      "metadata": {
        "id": "Ip38SPNyqZXg"
      },
      "source": [
        "The GridSearchCV() function from scikit-learn will be used to perform the hyperparameter tuning. Particularly, GridSearchCV() function can perform the typical functions of a classifier such as fit, score and predict as well as predict_proba, decision_function, transform and inverse_transform.\n",
        "\n",
        "Secondly, we define variables that are necessary input to the GridSearchCV() function."
      ]
    },
    {
      "cell_type": "code",
      "metadata": {
        "id": "MItppucmqdN9"
      },
      "source": [
        "from sklearn.model_selection import GridSearchCV\n",
        "import numpy as np\n",
        " # define the parameters to be tuned\n",
        "\n",
        "max_features_range = np.arange(1,6,1)\n",
        "estimators_range = np.arange(10,210,10)\n",
        "param_grid = dict(max_features=max_features_range,n_estimators=estimators_range)\n",
        "rf = RandomForestClassifier()\n",
        "grid = GridSearchCV(estimator=rf,param_grid=param_grid,cv=5)"
      ],
      "execution_count": 52,
      "outputs": []
    },
    {
      "cell_type": "code",
      "metadata": {
        "colab": {
          "base_uri": "https://localhost:8080/"
        },
        "id": "bgk6ohK1r1zE",
        "outputId": "11e708c7-c67d-47f5-dd7b-093ea0b6df4e"
      },
      "source": [
        "grid.fit(X_train,y_train)"
      ],
      "execution_count": 53,
      "outputs": [
        {
          "output_type": "execute_result",
          "data": {
            "text/plain": [
              "GridSearchCV(cv=5, error_score=nan,\n",
              "             estimator=RandomForestClassifier(bootstrap=True, ccp_alpha=0.0,\n",
              "                                              class_weight=None,\n",
              "                                              criterion='gini', max_depth=None,\n",
              "                                              max_features='auto',\n",
              "                                              max_leaf_nodes=None,\n",
              "                                              max_samples=None,\n",
              "                                              min_impurity_decrease=0.0,\n",
              "                                              min_impurity_split=None,\n",
              "                                              min_samples_leaf=1,\n",
              "                                              min_samples_split=2,\n",
              "                                              min_weight_fraction_leaf=0.0,\n",
              "                                              n_estimators=100, n_jobs=None,\n",
              "                                              oob_score=False,\n",
              "                                              random_state=None, verbose=0,\n",
              "                                              warm_start=False),\n",
              "             iid='deprecated', n_jobs=None,\n",
              "             param_grid={'max_features': array([1, 2, 3, 4, 5]),\n",
              "                         'n_estimators': array([ 10,  20,  30,  40,  50,  60,  70,  80,  90, 100, 110, 120, 130,\n",
              "       140, 150, 160, 170, 180, 190, 200])},\n",
              "             pre_dispatch='2*n_jobs', refit=True, return_train_score=False,\n",
              "             scoring=None, verbose=0)"
            ]
          },
          "metadata": {},
          "execution_count": 53
        }
      ]
    },
    {
      "cell_type": "code",
      "metadata": {
        "colab": {
          "base_uri": "https://localhost:8080/"
        },
        "id": "62CqazXfr8Gk",
        "outputId": "f6b53efa-f4af-475a-b97e-7fb2ecd294b1"
      },
      "source": [
        "grid.best_estimator_,grid.best_params_,grid.best_score_"
      ],
      "execution_count": 56,
      "outputs": [
        {
          "output_type": "execute_result",
          "data": {
            "text/plain": [
              "(RandomForestClassifier(bootstrap=True, ccp_alpha=0.0, class_weight=None,\n",
              "                        criterion='gini', max_depth=None, max_features=1,\n",
              "                        max_leaf_nodes=None, max_samples=None,\n",
              "                        min_impurity_decrease=0.0, min_impurity_split=None,\n",
              "                        min_samples_leaf=1, min_samples_split=2,\n",
              "                        min_weight_fraction_leaf=0.0, n_estimators=170,\n",
              "                        n_jobs=None, oob_score=False, random_state=None,\n",
              "                        verbose=0, warm_start=False),\n",
              " {'max_features': 1, 'n_estimators': 170},\n",
              " 0.9)"
            ]
          },
          "metadata": {},
          "execution_count": 56
        }
      ]
    },
    {
      "cell_type": "markdown",
      "metadata": {
        "id": "hTUnas_AsmkS"
      },
      "source": [
        "**Dataframe of Grid search parameters and their Accuracy scores**\n"
      ]
    },
    {
      "cell_type": "code",
      "metadata": {
        "colab": {
          "base_uri": "https://localhost:8080/",
          "height": 203
        },
        "id": "yv0Ab-besk5A",
        "outputId": "9d428173-a35a-4df1-c4e0-146dca56c7af"
      },
      "source": [
        "import pandas as pd\n",
        "grid_results = pd.concat([pd.DataFrame(grid.cv_results_['params']),pd.DataFrame(grid.cv_results_['mean_test_score'],columns=[\"Accuracy\"])],axis=1)\n",
        "grid_results.head()"
      ],
      "execution_count": 58,
      "outputs": [
        {
          "output_type": "execute_result",
          "data": {
            "text/html": [
              "<div>\n",
              "<style scoped>\n",
              "    .dataframe tbody tr th:only-of-type {\n",
              "        vertical-align: middle;\n",
              "    }\n",
              "\n",
              "    .dataframe tbody tr th {\n",
              "        vertical-align: top;\n",
              "    }\n",
              "\n",
              "    .dataframe thead th {\n",
              "        text-align: right;\n",
              "    }\n",
              "</style>\n",
              "<table border=\"1\" class=\"dataframe\">\n",
              "  <thead>\n",
              "    <tr style=\"text-align: right;\">\n",
              "      <th></th>\n",
              "      <th>max_features</th>\n",
              "      <th>n_estimators</th>\n",
              "      <th>Accuracy</th>\n",
              "    </tr>\n",
              "  </thead>\n",
              "  <tbody>\n",
              "    <tr>\n",
              "      <th>0</th>\n",
              "      <td>1</td>\n",
              "      <td>10</td>\n",
              "      <td>0.833333</td>\n",
              "    </tr>\n",
              "    <tr>\n",
              "      <th>1</th>\n",
              "      <td>1</td>\n",
              "      <td>20</td>\n",
              "      <td>0.879167</td>\n",
              "    </tr>\n",
              "    <tr>\n",
              "      <th>2</th>\n",
              "      <td>1</td>\n",
              "      <td>30</td>\n",
              "      <td>0.862500</td>\n",
              "    </tr>\n",
              "    <tr>\n",
              "      <th>3</th>\n",
              "      <td>1</td>\n",
              "      <td>40</td>\n",
              "      <td>0.866667</td>\n",
              "    </tr>\n",
              "    <tr>\n",
              "      <th>4</th>\n",
              "      <td>1</td>\n",
              "      <td>50</td>\n",
              "      <td>0.879167</td>\n",
              "    </tr>\n",
              "  </tbody>\n",
              "</table>\n",
              "</div>"
            ],
            "text/plain": [
              "   max_features  n_estimators  Accuracy\n",
              "0             1            10  0.833333\n",
              "1             1            20  0.879167\n",
              "2             1            30  0.862500\n",
              "3             1            40  0.866667\n",
              "4             1            50  0.879167"
            ]
          },
          "metadata": {},
          "execution_count": 58
        }
      ]
    },
    {
      "cell_type": "code",
      "metadata": {
        "colab": {
          "base_uri": "https://localhost:8080/",
          "height": 447
        },
        "id": "kIe8G-wktW3F",
        "outputId": "d35c60f3-2a30-402f-b266-3b9e074d74af"
      },
      "source": [
        "grid_contour = grid_results.groupby(['max_features','n_estimators']).mean()\n",
        "grid_contour"
      ],
      "execution_count": 62,
      "outputs": [
        {
          "output_type": "execute_result",
          "data": {
            "text/html": [
              "<div>\n",
              "<style scoped>\n",
              "    .dataframe tbody tr th:only-of-type {\n",
              "        vertical-align: middle;\n",
              "    }\n",
              "\n",
              "    .dataframe tbody tr th {\n",
              "        vertical-align: top;\n",
              "    }\n",
              "\n",
              "    .dataframe thead th {\n",
              "        text-align: right;\n",
              "    }\n",
              "</style>\n",
              "<table border=\"1\" class=\"dataframe\">\n",
              "  <thead>\n",
              "    <tr style=\"text-align: right;\">\n",
              "      <th></th>\n",
              "      <th></th>\n",
              "      <th>Accuracy</th>\n",
              "    </tr>\n",
              "    <tr>\n",
              "      <th>max_features</th>\n",
              "      <th>n_estimators</th>\n",
              "      <th></th>\n",
              "    </tr>\n",
              "  </thead>\n",
              "  <tbody>\n",
              "    <tr>\n",
              "      <th rowspan=\"5\" valign=\"top\">1</th>\n",
              "      <th>10</th>\n",
              "      <td>0.833333</td>\n",
              "    </tr>\n",
              "    <tr>\n",
              "      <th>20</th>\n",
              "      <td>0.879167</td>\n",
              "    </tr>\n",
              "    <tr>\n",
              "      <th>30</th>\n",
              "      <td>0.862500</td>\n",
              "    </tr>\n",
              "    <tr>\n",
              "      <th>40</th>\n",
              "      <td>0.866667</td>\n",
              "    </tr>\n",
              "    <tr>\n",
              "      <th>50</th>\n",
              "      <td>0.879167</td>\n",
              "    </tr>\n",
              "    <tr>\n",
              "      <th>...</th>\n",
              "      <th>...</th>\n",
              "      <td>...</td>\n",
              "    </tr>\n",
              "    <tr>\n",
              "      <th rowspan=\"5\" valign=\"top\">5</th>\n",
              "      <th>160</th>\n",
              "      <td>0.887500</td>\n",
              "    </tr>\n",
              "    <tr>\n",
              "      <th>170</th>\n",
              "      <td>0.883333</td>\n",
              "    </tr>\n",
              "    <tr>\n",
              "      <th>180</th>\n",
              "      <td>0.887500</td>\n",
              "    </tr>\n",
              "    <tr>\n",
              "      <th>190</th>\n",
              "      <td>0.883333</td>\n",
              "    </tr>\n",
              "    <tr>\n",
              "      <th>200</th>\n",
              "      <td>0.891667</td>\n",
              "    </tr>\n",
              "  </tbody>\n",
              "</table>\n",
              "<p>100 rows × 1 columns</p>\n",
              "</div>"
            ],
            "text/plain": [
              "                           Accuracy\n",
              "max_features n_estimators          \n",
              "1            10            0.833333\n",
              "             20            0.879167\n",
              "             30            0.862500\n",
              "             40            0.866667\n",
              "             50            0.879167\n",
              "...                             ...\n",
              "5            160           0.887500\n",
              "             170           0.883333\n",
              "             180           0.887500\n",
              "             190           0.883333\n",
              "             200           0.891667\n",
              "\n",
              "[100 rows x 1 columns]"
            ]
          },
          "metadata": {},
          "execution_count": 62
        }
      ]
    },
    {
      "cell_type": "code",
      "metadata": {
        "colab": {
          "base_uri": "https://localhost:8080/",
          "height": 285
        },
        "id": "sKERzClFtTrt",
        "outputId": "5628d781-0a2a-442c-9219-b21df9f8d4e0"
      },
      "source": [
        "\n",
        "grid_reset = grid_contour.reset_index()\n",
        "grid_reset.columns = ['max_features', 'n_estimators', 'Accuracy']\n",
        "grid_pivot = grid_reset.pivot('max_features', 'n_estimators')\n",
        "grid_pivot"
      ],
      "execution_count": 63,
      "outputs": [
        {
          "output_type": "execute_result",
          "data": {
            "text/html": [
              "<div>\n",
              "<style scoped>\n",
              "    .dataframe tbody tr th:only-of-type {\n",
              "        vertical-align: middle;\n",
              "    }\n",
              "\n",
              "    .dataframe tbody tr th {\n",
              "        vertical-align: top;\n",
              "    }\n",
              "\n",
              "    .dataframe thead tr th {\n",
              "        text-align: left;\n",
              "    }\n",
              "\n",
              "    .dataframe thead tr:last-of-type th {\n",
              "        text-align: right;\n",
              "    }\n",
              "</style>\n",
              "<table border=\"1\" class=\"dataframe\">\n",
              "  <thead>\n",
              "    <tr>\n",
              "      <th></th>\n",
              "      <th colspan=\"20\" halign=\"left\">Accuracy</th>\n",
              "    </tr>\n",
              "    <tr>\n",
              "      <th>n_estimators</th>\n",
              "      <th>10</th>\n",
              "      <th>20</th>\n",
              "      <th>30</th>\n",
              "      <th>40</th>\n",
              "      <th>50</th>\n",
              "      <th>60</th>\n",
              "      <th>70</th>\n",
              "      <th>80</th>\n",
              "      <th>90</th>\n",
              "      <th>100</th>\n",
              "      <th>110</th>\n",
              "      <th>120</th>\n",
              "      <th>130</th>\n",
              "      <th>140</th>\n",
              "      <th>150</th>\n",
              "      <th>160</th>\n",
              "      <th>170</th>\n",
              "      <th>180</th>\n",
              "      <th>190</th>\n",
              "      <th>200</th>\n",
              "    </tr>\n",
              "    <tr>\n",
              "      <th>max_features</th>\n",
              "      <th></th>\n",
              "      <th></th>\n",
              "      <th></th>\n",
              "      <th></th>\n",
              "      <th></th>\n",
              "      <th></th>\n",
              "      <th></th>\n",
              "      <th></th>\n",
              "      <th></th>\n",
              "      <th></th>\n",
              "      <th></th>\n",
              "      <th></th>\n",
              "      <th></th>\n",
              "      <th></th>\n",
              "      <th></th>\n",
              "      <th></th>\n",
              "      <th></th>\n",
              "      <th></th>\n",
              "      <th></th>\n",
              "      <th></th>\n",
              "    </tr>\n",
              "  </thead>\n",
              "  <tbody>\n",
              "    <tr>\n",
              "      <th>1</th>\n",
              "      <td>0.833333</td>\n",
              "      <td>0.879167</td>\n",
              "      <td>0.862500</td>\n",
              "      <td>0.866667</td>\n",
              "      <td>0.879167</td>\n",
              "      <td>0.875000</td>\n",
              "      <td>0.883333</td>\n",
              "      <td>0.879167</td>\n",
              "      <td>0.891667</td>\n",
              "      <td>0.883333</td>\n",
              "      <td>0.887500</td>\n",
              "      <td>0.883333</td>\n",
              "      <td>0.887500</td>\n",
              "      <td>0.887500</td>\n",
              "      <td>0.887500</td>\n",
              "      <td>0.887500</td>\n",
              "      <td>0.900000</td>\n",
              "      <td>0.883333</td>\n",
              "      <td>0.887500</td>\n",
              "      <td>0.883333</td>\n",
              "    </tr>\n",
              "    <tr>\n",
              "      <th>2</th>\n",
              "      <td>0.883333</td>\n",
              "      <td>0.883333</td>\n",
              "      <td>0.883333</td>\n",
              "      <td>0.900000</td>\n",
              "      <td>0.895833</td>\n",
              "      <td>0.875000</td>\n",
              "      <td>0.891667</td>\n",
              "      <td>0.879167</td>\n",
              "      <td>0.887500</td>\n",
              "      <td>0.879167</td>\n",
              "      <td>0.879167</td>\n",
              "      <td>0.887500</td>\n",
              "      <td>0.891667</td>\n",
              "      <td>0.895833</td>\n",
              "      <td>0.887500</td>\n",
              "      <td>0.883333</td>\n",
              "      <td>0.887500</td>\n",
              "      <td>0.891667</td>\n",
              "      <td>0.883333</td>\n",
              "      <td>0.887500</td>\n",
              "    </tr>\n",
              "    <tr>\n",
              "      <th>3</th>\n",
              "      <td>0.883333</td>\n",
              "      <td>0.887500</td>\n",
              "      <td>0.887500</td>\n",
              "      <td>0.879167</td>\n",
              "      <td>0.883333</td>\n",
              "      <td>0.883333</td>\n",
              "      <td>0.895833</td>\n",
              "      <td>0.887500</td>\n",
              "      <td>0.887500</td>\n",
              "      <td>0.887500</td>\n",
              "      <td>0.891667</td>\n",
              "      <td>0.887500</td>\n",
              "      <td>0.883333</td>\n",
              "      <td>0.887500</td>\n",
              "      <td>0.883333</td>\n",
              "      <td>0.891667</td>\n",
              "      <td>0.887500</td>\n",
              "      <td>0.883333</td>\n",
              "      <td>0.891667</td>\n",
              "      <td>0.887500</td>\n",
              "    </tr>\n",
              "    <tr>\n",
              "      <th>4</th>\n",
              "      <td>0.879167</td>\n",
              "      <td>0.879167</td>\n",
              "      <td>0.879167</td>\n",
              "      <td>0.900000</td>\n",
              "      <td>0.891667</td>\n",
              "      <td>0.883333</td>\n",
              "      <td>0.891667</td>\n",
              "      <td>0.891667</td>\n",
              "      <td>0.887500</td>\n",
              "      <td>0.895833</td>\n",
              "      <td>0.887500</td>\n",
              "      <td>0.887500</td>\n",
              "      <td>0.883333</td>\n",
              "      <td>0.887500</td>\n",
              "      <td>0.883333</td>\n",
              "      <td>0.883333</td>\n",
              "      <td>0.879167</td>\n",
              "      <td>0.887500</td>\n",
              "      <td>0.883333</td>\n",
              "      <td>0.883333</td>\n",
              "    </tr>\n",
              "    <tr>\n",
              "      <th>5</th>\n",
              "      <td>0.879167</td>\n",
              "      <td>0.883333</td>\n",
              "      <td>0.887500</td>\n",
              "      <td>0.879167</td>\n",
              "      <td>0.883333</td>\n",
              "      <td>0.883333</td>\n",
              "      <td>0.879167</td>\n",
              "      <td>0.879167</td>\n",
              "      <td>0.891667</td>\n",
              "      <td>0.879167</td>\n",
              "      <td>0.887500</td>\n",
              "      <td>0.879167</td>\n",
              "      <td>0.891667</td>\n",
              "      <td>0.883333</td>\n",
              "      <td>0.891667</td>\n",
              "      <td>0.887500</td>\n",
              "      <td>0.883333</td>\n",
              "      <td>0.887500</td>\n",
              "      <td>0.883333</td>\n",
              "      <td>0.891667</td>\n",
              "    </tr>\n",
              "  </tbody>\n",
              "</table>\n",
              "</div>"
            ],
            "text/plain": [
              "              Accuracy                      ...                              \n",
              "n_estimators       10        20        30   ...       180       190       200\n",
              "max_features                                ...                              \n",
              "1             0.833333  0.879167  0.862500  ...  0.883333  0.887500  0.883333\n",
              "2             0.883333  0.883333  0.883333  ...  0.891667  0.883333  0.887500\n",
              "3             0.883333  0.887500  0.887500  ...  0.883333  0.891667  0.887500\n",
              "4             0.879167  0.879167  0.879167  ...  0.887500  0.883333  0.883333\n",
              "5             0.879167  0.883333  0.887500  ...  0.887500  0.883333  0.891667\n",
              "\n",
              "[5 rows x 20 columns]"
            ]
          },
          "metadata": {},
          "execution_count": 63
        }
      ]
    },
    {
      "cell_type": "code",
      "metadata": {
        "id": "pTrYyMWDtTie"
      },
      "source": [
        "x = grid_pivot.columns.levels[1].values\n",
        "y = grid_pivot.index.values\n",
        "z = grid_pivot.values"
      ],
      "execution_count": 64,
      "outputs": []
    },
    {
      "cell_type": "markdown",
      "metadata": {
        "id": "SeIrIQdYtgXH"
      },
      "source": [
        "**2D CONTOUR PLOT**"
      ]
    },
    {
      "cell_type": "code",
      "metadata": {
        "colab": {
          "base_uri": "https://localhost:8080/",
          "height": 517
        },
        "id": "6eBB5S6Ztfvi",
        "outputId": "1eae016d-4fd0-4c41-bf57-d29780d6cb15"
      },
      "source": [
        "import plotly.graph_objects as go\n",
        "\n",
        "# X and Y axes labels\n",
        "layout = go.Layout(\n",
        "            xaxis=go.layout.XAxis(\n",
        "              title=go.layout.xaxis.Title(\n",
        "              text='n_estimators')\n",
        "             ),\n",
        "             yaxis=go.layout.YAxis(\n",
        "              title=go.layout.yaxis.Title(\n",
        "              text='max_features') \n",
        "            ) )\n",
        "\n",
        "fig = go.Figure(data = [go.Contour(z=z, x=x, y=y)], layout=layout )\n",
        "\n",
        "fig.update_layout(title='Hyperparameter tuning', autosize=False,\n",
        "                  width=500, height=500,\n",
        "                  margin=dict(l=65, r=50, b=65, t=90))\n",
        "\n",
        "fig.show()"
      ],
      "execution_count": 65,
      "outputs": [
        {
          "output_type": "display_data",
          "data": {
            "text/html": [
              "<html>\n",
              "<head><meta charset=\"utf-8\" /></head>\n",
              "<body>\n",
              "    <div>\n",
              "            <script src=\"https://cdnjs.cloudflare.com/ajax/libs/mathjax/2.7.5/MathJax.js?config=TeX-AMS-MML_SVG\"></script><script type=\"text/javascript\">if (window.MathJax) {MathJax.Hub.Config({SVG: {font: \"STIX-Web\"}});}</script>\n",
              "                <script type=\"text/javascript\">window.PlotlyConfig = {MathJaxConfig: 'local'};</script>\n",
              "        <script src=\"https://cdn.plot.ly/plotly-latest.min.js\"></script>    \n",
              "            <div id=\"948150e0-5130-445a-860f-e5526358fc43\" class=\"plotly-graph-div\" style=\"height:500px; width:500px;\"></div>\n",
              "            <script type=\"text/javascript\">\n",
              "                \n",
              "                    window.PLOTLYENV=window.PLOTLYENV || {};\n",
              "                    \n",
              "                if (document.getElementById(\"948150e0-5130-445a-860f-e5526358fc43\")) {\n",
              "                    Plotly.newPlot(\n",
              "                        '948150e0-5130-445a-860f-e5526358fc43',\n",
              "                        [{\"type\": \"contour\", \"x\": [10, 20, 30, 40, 50, 60, 70, 80, 90, 100, 110, 120, 130, 140, 150, 160, 170, 180, 190, 200], \"y\": [1, 2, 3, 4, 5], \"z\": [[0.8333333333333334, 0.8791666666666667, 0.8625, 0.8666666666666666, 0.8791666666666667, 0.875, 0.8833333333333334, 0.8791666666666668, 0.8916666666666666, 0.8833333333333334, 0.8875, 0.8833333333333334, 0.8875, 0.8875, 0.8875, 0.8875, 0.9, 0.8833333333333334, 0.8875, 0.8833333333333334], [0.8833333333333334, 0.8833333333333334, 0.8833333333333334, 0.9, 0.8958333333333334, 0.875, 0.8916666666666668, 0.8791666666666668, 0.8875, 0.8791666666666668, 0.8791666666666667, 0.8875, 0.8916666666666666, 0.8958333333333334, 0.8875, 0.8833333333333334, 0.8875, 0.8916666666666668, 0.8833333333333334, 0.8875], [0.8833333333333332, 0.8875, 0.8875, 0.8791666666666667, 0.8833333333333334, 0.8833333333333334, 0.8958333333333333, 0.8875, 0.8875, 0.8875, 0.8916666666666668, 0.8875, 0.8833333333333334, 0.8875, 0.8833333333333334, 0.8916666666666666, 0.8875, 0.8833333333333334, 0.8916666666666666, 0.8875], [0.8791666666666668, 0.8791666666666667, 0.8791666666666667, 0.9, 0.8916666666666666, 0.8833333333333334, 0.8916666666666668, 0.8916666666666666, 0.8875, 0.8958333333333334, 0.8875, 0.8875, 0.8833333333333334, 0.8875, 0.8833333333333334, 0.8833333333333334, 0.8791666666666667, 0.8875, 0.8833333333333334, 0.8833333333333334], [0.8791666666666668, 0.8833333333333334, 0.8875, 0.8791666666666668, 0.8833333333333334, 0.8833333333333334, 0.8791666666666667, 0.8791666666666667, 0.8916666666666668, 0.8791666666666667, 0.8875, 0.8791666666666667, 0.8916666666666668, 0.8833333333333334, 0.8916666666666668, 0.8875, 0.8833333333333334, 0.8875, 0.8833333333333334, 0.8916666666666668]]}],\n",
              "                        {\"autosize\": false, \"height\": 500, \"margin\": {\"b\": 65, \"l\": 65, \"r\": 50, \"t\": 90}, \"template\": {\"data\": {\"bar\": [{\"error_x\": {\"color\": \"#2a3f5f\"}, \"error_y\": {\"color\": \"#2a3f5f\"}, \"marker\": {\"line\": {\"color\": \"#E5ECF6\", \"width\": 0.5}}, \"type\": \"bar\"}], \"barpolar\": [{\"marker\": {\"line\": {\"color\": \"#E5ECF6\", \"width\": 0.5}}, \"type\": \"barpolar\"}], \"carpet\": [{\"aaxis\": {\"endlinecolor\": \"#2a3f5f\", \"gridcolor\": \"white\", \"linecolor\": \"white\", \"minorgridcolor\": \"white\", \"startlinecolor\": \"#2a3f5f\"}, \"baxis\": {\"endlinecolor\": \"#2a3f5f\", \"gridcolor\": \"white\", \"linecolor\": \"white\", \"minorgridcolor\": \"white\", \"startlinecolor\": \"#2a3f5f\"}, \"type\": \"carpet\"}], \"choropleth\": [{\"colorbar\": {\"outlinewidth\": 0, \"ticks\": \"\"}, \"type\": \"choropleth\"}], \"contour\": [{\"colorbar\": {\"outlinewidth\": 0, \"ticks\": \"\"}, \"colorscale\": [[0.0, \"#0d0887\"], [0.1111111111111111, \"#46039f\"], [0.2222222222222222, \"#7201a8\"], [0.3333333333333333, \"#9c179e\"], [0.4444444444444444, \"#bd3786\"], [0.5555555555555556, \"#d8576b\"], [0.6666666666666666, \"#ed7953\"], [0.7777777777777778, \"#fb9f3a\"], [0.8888888888888888, \"#fdca26\"], [1.0, \"#f0f921\"]], \"type\": \"contour\"}], \"contourcarpet\": [{\"colorbar\": {\"outlinewidth\": 0, \"ticks\": \"\"}, \"type\": \"contourcarpet\"}], \"heatmap\": [{\"colorbar\": {\"outlinewidth\": 0, \"ticks\": \"\"}, \"colorscale\": [[0.0, \"#0d0887\"], [0.1111111111111111, \"#46039f\"], [0.2222222222222222, \"#7201a8\"], [0.3333333333333333, \"#9c179e\"], [0.4444444444444444, \"#bd3786\"], [0.5555555555555556, \"#d8576b\"], [0.6666666666666666, \"#ed7953\"], [0.7777777777777778, \"#fb9f3a\"], [0.8888888888888888, \"#fdca26\"], [1.0, \"#f0f921\"]], \"type\": \"heatmap\"}], \"heatmapgl\": [{\"colorbar\": {\"outlinewidth\": 0, \"ticks\": \"\"}, \"colorscale\": [[0.0, \"#0d0887\"], [0.1111111111111111, \"#46039f\"], [0.2222222222222222, \"#7201a8\"], [0.3333333333333333, \"#9c179e\"], [0.4444444444444444, \"#bd3786\"], [0.5555555555555556, \"#d8576b\"], [0.6666666666666666, \"#ed7953\"], [0.7777777777777778, \"#fb9f3a\"], [0.8888888888888888, \"#fdca26\"], [1.0, \"#f0f921\"]], \"type\": \"heatmapgl\"}], \"histogram\": [{\"marker\": {\"colorbar\": {\"outlinewidth\": 0, \"ticks\": \"\"}}, \"type\": \"histogram\"}], \"histogram2d\": [{\"colorbar\": {\"outlinewidth\": 0, \"ticks\": \"\"}, \"colorscale\": [[0.0, \"#0d0887\"], [0.1111111111111111, \"#46039f\"], [0.2222222222222222, \"#7201a8\"], [0.3333333333333333, \"#9c179e\"], [0.4444444444444444, \"#bd3786\"], [0.5555555555555556, \"#d8576b\"], [0.6666666666666666, \"#ed7953\"], [0.7777777777777778, \"#fb9f3a\"], [0.8888888888888888, \"#fdca26\"], [1.0, \"#f0f921\"]], \"type\": \"histogram2d\"}], \"histogram2dcontour\": [{\"colorbar\": {\"outlinewidth\": 0, \"ticks\": \"\"}, \"colorscale\": [[0.0, \"#0d0887\"], [0.1111111111111111, \"#46039f\"], [0.2222222222222222, \"#7201a8\"], [0.3333333333333333, \"#9c179e\"], [0.4444444444444444, \"#bd3786\"], [0.5555555555555556, \"#d8576b\"], [0.6666666666666666, \"#ed7953\"], [0.7777777777777778, \"#fb9f3a\"], [0.8888888888888888, \"#fdca26\"], [1.0, \"#f0f921\"]], \"type\": \"histogram2dcontour\"}], \"mesh3d\": [{\"colorbar\": {\"outlinewidth\": 0, \"ticks\": \"\"}, \"type\": \"mesh3d\"}], \"parcoords\": [{\"line\": {\"colorbar\": {\"outlinewidth\": 0, \"ticks\": \"\"}}, \"type\": \"parcoords\"}], \"pie\": [{\"automargin\": true, \"type\": \"pie\"}], \"scatter\": [{\"marker\": {\"colorbar\": {\"outlinewidth\": 0, \"ticks\": \"\"}}, \"type\": \"scatter\"}], \"scatter3d\": [{\"line\": {\"colorbar\": {\"outlinewidth\": 0, \"ticks\": \"\"}}, \"marker\": {\"colorbar\": {\"outlinewidth\": 0, \"ticks\": \"\"}}, \"type\": \"scatter3d\"}], \"scattercarpet\": [{\"marker\": {\"colorbar\": {\"outlinewidth\": 0, \"ticks\": \"\"}}, \"type\": \"scattercarpet\"}], \"scattergeo\": [{\"marker\": {\"colorbar\": {\"outlinewidth\": 0, \"ticks\": \"\"}}, \"type\": \"scattergeo\"}], \"scattergl\": [{\"marker\": {\"colorbar\": {\"outlinewidth\": 0, \"ticks\": \"\"}}, \"type\": \"scattergl\"}], \"scattermapbox\": [{\"marker\": {\"colorbar\": {\"outlinewidth\": 0, \"ticks\": \"\"}}, \"type\": \"scattermapbox\"}], \"scatterpolar\": [{\"marker\": {\"colorbar\": {\"outlinewidth\": 0, \"ticks\": \"\"}}, \"type\": \"scatterpolar\"}], \"scatterpolargl\": [{\"marker\": {\"colorbar\": {\"outlinewidth\": 0, \"ticks\": \"\"}}, \"type\": \"scatterpolargl\"}], \"scatterternary\": [{\"marker\": {\"colorbar\": {\"outlinewidth\": 0, \"ticks\": \"\"}}, \"type\": \"scatterternary\"}], \"surface\": [{\"colorbar\": {\"outlinewidth\": 0, \"ticks\": \"\"}, \"colorscale\": [[0.0, \"#0d0887\"], [0.1111111111111111, \"#46039f\"], [0.2222222222222222, \"#7201a8\"], [0.3333333333333333, \"#9c179e\"], [0.4444444444444444, \"#bd3786\"], [0.5555555555555556, \"#d8576b\"], [0.6666666666666666, \"#ed7953\"], [0.7777777777777778, \"#fb9f3a\"], [0.8888888888888888, \"#fdca26\"], [1.0, \"#f0f921\"]], \"type\": \"surface\"}], \"table\": [{\"cells\": {\"fill\": {\"color\": \"#EBF0F8\"}, \"line\": {\"color\": \"white\"}}, \"header\": {\"fill\": {\"color\": \"#C8D4E3\"}, \"line\": {\"color\": \"white\"}}, \"type\": \"table\"}]}, \"layout\": {\"annotationdefaults\": {\"arrowcolor\": \"#2a3f5f\", \"arrowhead\": 0, \"arrowwidth\": 1}, \"coloraxis\": {\"colorbar\": {\"outlinewidth\": 0, \"ticks\": \"\"}}, \"colorscale\": {\"diverging\": [[0, \"#8e0152\"], [0.1, \"#c51b7d\"], [0.2, \"#de77ae\"], [0.3, \"#f1b6da\"], [0.4, \"#fde0ef\"], [0.5, \"#f7f7f7\"], [0.6, \"#e6f5d0\"], [0.7, \"#b8e186\"], [0.8, \"#7fbc41\"], [0.9, \"#4d9221\"], [1, \"#276419\"]], \"sequential\": [[0.0, \"#0d0887\"], [0.1111111111111111, \"#46039f\"], [0.2222222222222222, \"#7201a8\"], [0.3333333333333333, \"#9c179e\"], [0.4444444444444444, \"#bd3786\"], [0.5555555555555556, \"#d8576b\"], [0.6666666666666666, \"#ed7953\"], [0.7777777777777778, \"#fb9f3a\"], [0.8888888888888888, \"#fdca26\"], [1.0, \"#f0f921\"]], \"sequentialminus\": [[0.0, \"#0d0887\"], [0.1111111111111111, \"#46039f\"], [0.2222222222222222, \"#7201a8\"], [0.3333333333333333, \"#9c179e\"], [0.4444444444444444, \"#bd3786\"], [0.5555555555555556, \"#d8576b\"], [0.6666666666666666, \"#ed7953\"], [0.7777777777777778, \"#fb9f3a\"], [0.8888888888888888, \"#fdca26\"], [1.0, \"#f0f921\"]]}, \"colorway\": [\"#636efa\", \"#EF553B\", \"#00cc96\", \"#ab63fa\", \"#FFA15A\", \"#19d3f3\", \"#FF6692\", \"#B6E880\", \"#FF97FF\", \"#FECB52\"], \"font\": {\"color\": \"#2a3f5f\"}, \"geo\": {\"bgcolor\": \"white\", \"lakecolor\": \"white\", \"landcolor\": \"#E5ECF6\", \"showlakes\": true, \"showland\": true, \"subunitcolor\": \"white\"}, \"hoverlabel\": {\"align\": \"left\"}, \"hovermode\": \"closest\", \"mapbox\": {\"style\": \"light\"}, \"paper_bgcolor\": \"white\", \"plot_bgcolor\": \"#E5ECF6\", \"polar\": {\"angularaxis\": {\"gridcolor\": \"white\", \"linecolor\": \"white\", \"ticks\": \"\"}, \"bgcolor\": \"#E5ECF6\", \"radialaxis\": {\"gridcolor\": \"white\", \"linecolor\": \"white\", \"ticks\": \"\"}}, \"scene\": {\"xaxis\": {\"backgroundcolor\": \"#E5ECF6\", \"gridcolor\": \"white\", \"gridwidth\": 2, \"linecolor\": \"white\", \"showbackground\": true, \"ticks\": \"\", \"zerolinecolor\": \"white\"}, \"yaxis\": {\"backgroundcolor\": \"#E5ECF6\", \"gridcolor\": \"white\", \"gridwidth\": 2, \"linecolor\": \"white\", \"showbackground\": true, \"ticks\": \"\", \"zerolinecolor\": \"white\"}, \"zaxis\": {\"backgroundcolor\": \"#E5ECF6\", \"gridcolor\": \"white\", \"gridwidth\": 2, \"linecolor\": \"white\", \"showbackground\": true, \"ticks\": \"\", \"zerolinecolor\": \"white\"}}, \"shapedefaults\": {\"line\": {\"color\": \"#2a3f5f\"}}, \"ternary\": {\"aaxis\": {\"gridcolor\": \"white\", \"linecolor\": \"white\", \"ticks\": \"\"}, \"baxis\": {\"gridcolor\": \"white\", \"linecolor\": \"white\", \"ticks\": \"\"}, \"bgcolor\": \"#E5ECF6\", \"caxis\": {\"gridcolor\": \"white\", \"linecolor\": \"white\", \"ticks\": \"\"}}, \"title\": {\"x\": 0.05}, \"xaxis\": {\"automargin\": true, \"gridcolor\": \"white\", \"linecolor\": \"white\", \"ticks\": \"\", \"title\": {\"standoff\": 15}, \"zerolinecolor\": \"white\", \"zerolinewidth\": 2}, \"yaxis\": {\"automargin\": true, \"gridcolor\": \"white\", \"linecolor\": \"white\", \"ticks\": \"\", \"title\": {\"standoff\": 15}, \"zerolinecolor\": \"white\", \"zerolinewidth\": 2}}}, \"title\": {\"text\": \"Hyperparameter tuning\"}, \"width\": 500, \"xaxis\": {\"title\": {\"text\": \"n_estimators\"}}, \"yaxis\": {\"title\": {\"text\": \"max_features\"}}},\n",
              "                        {\"responsive\": true}\n",
              "                    ).then(function(){\n",
              "                            \n",
              "var gd = document.getElementById('948150e0-5130-445a-860f-e5526358fc43');\n",
              "var x = new MutationObserver(function (mutations, observer) {{\n",
              "        var display = window.getComputedStyle(gd).display;\n",
              "        if (!display || display === 'none') {{\n",
              "            console.log([gd, 'removed!']);\n",
              "            Plotly.purge(gd);\n",
              "            observer.disconnect();\n",
              "        }}\n",
              "}});\n",
              "\n",
              "// Listen for the removal of the full notebook cells\n",
              "var notebookContainer = gd.closest('#notebook-container');\n",
              "if (notebookContainer) {{\n",
              "    x.observe(notebookContainer, {childList: true});\n",
              "}}\n",
              "\n",
              "// Listen for the clearing of the current output cell\n",
              "var outputEl = gd.closest('.output');\n",
              "if (outputEl) {{\n",
              "    x.observe(outputEl, {childList: true});\n",
              "}}\n",
              "\n",
              "                        })\n",
              "                };\n",
              "                \n",
              "            </script>\n",
              "        </div>\n",
              "</body>\n",
              "</html>"
            ]
          },
          "metadata": {}
        }
      ]
    }
  ]
}