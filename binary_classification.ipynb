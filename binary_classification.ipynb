{
  "nbformat": 4,
  "nbformat_minor": 0,
  "metadata": {
    "colab": {
      "name": "binary_classification.ipynb",
      "provenance": [],
      "authorship_tag": "ABX9TyN9rPryf4lbCtXzd1WQUUfS",
      "include_colab_link": true
    },
    "kernelspec": {
      "name": "python3",
      "display_name": "Python 3"
    },
    "language_info": {
      "name": "python"
    }
  },
  "cells": [
    {
      "cell_type": "markdown",
      "metadata": {
        "id": "view-in-github",
        "colab_type": "text"
      },
      "source": [
        "<a href=\"https://colab.research.google.com/github/Amit32624/ml-concepts-and-algorithms/blob/main/binary_classification.ipynb\" target=\"_parent\"><img src=\"https://colab.research.google.com/assets/colab-badge.svg\" alt=\"Open In Colab\"/></a>"
      ]
    },
    {
      "cell_type": "markdown",
      "metadata": {
        "id": "QNzgqNlV_EGq"
      },
      "source": [
        "# Classification\n",
        "\n",
        "*Supervised* machine learning techniques involve training a model to operate on a set of *features* and predict a *label* using a dataset that includes some already-known label values. You can think of this function like this, in which ***y*** represents the label we want to predict and ***X*** represents the vector of features the model uses to predict it.\n",
        "\n",
        "$$y = f([x_1, x_2, x_3, ...])$$\n",
        "\n",
        "\n",
        "*Classification* is a form of supervised machine learning in which you train a model to use the features (the ***x*** values in our function) to predict a label (***y***) that calculates the probability of the observed case belonging to each of a number of possible classes, and predicting an appropriate label. The simplest form of classification is *binary* classification, in which the label is 0 or 1, representing one of two classes; for example, \"True\" or \"False\"; \"Internal\" or \"External\"; \"Profitable\" or \"Non-Profitable\"; and so on. \n",
        "\n",
        "## Binary Classification\n",
        "\n",
        "In this notebook, we will focus on an example of *binary classification*, where the model must predict a label that belongs to one of two classes. In this exercise, we'll train a binary classifier to predict whether or not a patient should be tested for diabetes based on some medical data.\n",
        "\n",
        "### Explore the data\n",
        "\n",
        "Run the following cell to load a CSV file of patent data into a **Pandas** dataframe:\n",
        "\n",
        "> **Citation**: The diabetes dataset used in this exercise is based on data originally collected by the National Institute of Diabetes and Digestive and Kidney Diseases."
      ]
    },
    {
      "cell_type": "code",
      "metadata": {
        "colab": {
          "base_uri": "https://localhost:8080/",
          "height": 397
        },
        "id": "4_rzwV0n-_zJ",
        "outputId": "46523ade-7e6c-4882-ae2b-3fe56eab0076"
      },
      "source": [
        "import pandas as pd\n",
        "# Loading the dataset\n",
        "!wget https://raw.githubusercontent.com/MicrosoftDocs/mslearn-introduction-to-machine-learning/main/Data/ml-basics/diabetes.csv\n",
        "diabetes = pd.read_csv('diabetes.csv')\n",
        "diabetes.head()"
      ],
      "execution_count": 1,
      "outputs": [
        {
          "output_type": "stream",
          "name": "stdout",
          "text": [
            "--2021-11-13 11:11:12--  https://raw.githubusercontent.com/MicrosoftDocs/mslearn-introduction-to-machine-learning/main/Data/ml-basics/diabetes.csv\n",
            "Resolving raw.githubusercontent.com (raw.githubusercontent.com)... 185.199.110.133, 185.199.109.133, 185.199.108.133, ...\n",
            "Connecting to raw.githubusercontent.com (raw.githubusercontent.com)|185.199.110.133|:443... connected.\n",
            "HTTP request sent, awaiting response... 200 OK\n",
            "Length: 776415 (758K) [text/plain]\n",
            "Saving to: ‘diabetes.csv’\n",
            "\n",
            "diabetes.csv        100%[===================>] 758.22K  --.-KB/s    in 0.03s   \n",
            "\n",
            "2021-11-13 11:11:12 (24.8 MB/s) - ‘diabetes.csv’ saved [776415/776415]\n",
            "\n"
          ]
        },
        {
          "output_type": "execute_result",
          "data": {
            "text/html": [
              "<div>\n",
              "<style scoped>\n",
              "    .dataframe tbody tr th:only-of-type {\n",
              "        vertical-align: middle;\n",
              "    }\n",
              "\n",
              "    .dataframe tbody tr th {\n",
              "        vertical-align: top;\n",
              "    }\n",
              "\n",
              "    .dataframe thead th {\n",
              "        text-align: right;\n",
              "    }\n",
              "</style>\n",
              "<table border=\"1\" class=\"dataframe\">\n",
              "  <thead>\n",
              "    <tr style=\"text-align: right;\">\n",
              "      <th></th>\n",
              "      <th>PatientID</th>\n",
              "      <th>Pregnancies</th>\n",
              "      <th>PlasmaGlucose</th>\n",
              "      <th>DiastolicBloodPressure</th>\n",
              "      <th>TricepsThickness</th>\n",
              "      <th>SerumInsulin</th>\n",
              "      <th>BMI</th>\n",
              "      <th>DiabetesPedigree</th>\n",
              "      <th>Age</th>\n",
              "      <th>Diabetic</th>\n",
              "    </tr>\n",
              "  </thead>\n",
              "  <tbody>\n",
              "    <tr>\n",
              "      <th>0</th>\n",
              "      <td>1354778</td>\n",
              "      <td>0</td>\n",
              "      <td>171</td>\n",
              "      <td>80</td>\n",
              "      <td>34</td>\n",
              "      <td>23</td>\n",
              "      <td>43.509726</td>\n",
              "      <td>1.213191</td>\n",
              "      <td>21</td>\n",
              "      <td>0</td>\n",
              "    </tr>\n",
              "    <tr>\n",
              "      <th>1</th>\n",
              "      <td>1147438</td>\n",
              "      <td>8</td>\n",
              "      <td>92</td>\n",
              "      <td>93</td>\n",
              "      <td>47</td>\n",
              "      <td>36</td>\n",
              "      <td>21.240576</td>\n",
              "      <td>0.158365</td>\n",
              "      <td>23</td>\n",
              "      <td>0</td>\n",
              "    </tr>\n",
              "    <tr>\n",
              "      <th>2</th>\n",
              "      <td>1640031</td>\n",
              "      <td>7</td>\n",
              "      <td>115</td>\n",
              "      <td>47</td>\n",
              "      <td>52</td>\n",
              "      <td>35</td>\n",
              "      <td>41.511523</td>\n",
              "      <td>0.079019</td>\n",
              "      <td>23</td>\n",
              "      <td>0</td>\n",
              "    </tr>\n",
              "    <tr>\n",
              "      <th>3</th>\n",
              "      <td>1883350</td>\n",
              "      <td>9</td>\n",
              "      <td>103</td>\n",
              "      <td>78</td>\n",
              "      <td>25</td>\n",
              "      <td>304</td>\n",
              "      <td>29.582192</td>\n",
              "      <td>1.282870</td>\n",
              "      <td>43</td>\n",
              "      <td>1</td>\n",
              "    </tr>\n",
              "    <tr>\n",
              "      <th>4</th>\n",
              "      <td>1424119</td>\n",
              "      <td>1</td>\n",
              "      <td>85</td>\n",
              "      <td>59</td>\n",
              "      <td>27</td>\n",
              "      <td>35</td>\n",
              "      <td>42.604536</td>\n",
              "      <td>0.549542</td>\n",
              "      <td>22</td>\n",
              "      <td>0</td>\n",
              "    </tr>\n",
              "  </tbody>\n",
              "</table>\n",
              "</div>"
            ],
            "text/plain": [
              "   PatientID  Pregnancies  PlasmaGlucose  ...  DiabetesPedigree  Age  Diabetic\n",
              "0    1354778            0            171  ...          1.213191   21         0\n",
              "1    1147438            8             92  ...          0.158365   23         0\n",
              "2    1640031            7            115  ...          0.079019   23         0\n",
              "3    1883350            9            103  ...          1.282870   43         1\n",
              "4    1424119            1             85  ...          0.549542   22         0\n",
              "\n",
              "[5 rows x 10 columns]"
            ]
          },
          "metadata": {},
          "execution_count": 1
        }
      ]
    },
    {
      "cell_type": "code",
      "metadata": {
        "colab": {
          "base_uri": "https://localhost:8080/",
          "height": 295
        },
        "id": "SNqKepLRAngb",
        "outputId": "d38a4861-b8ab-472b-f04a-efc0b5cb6c86"
      },
      "source": [
        "diabetes.describe()"
      ],
      "execution_count": 5,
      "outputs": [
        {
          "output_type": "execute_result",
          "data": {
            "text/html": [
              "<div>\n",
              "<style scoped>\n",
              "    .dataframe tbody tr th:only-of-type {\n",
              "        vertical-align: middle;\n",
              "    }\n",
              "\n",
              "    .dataframe tbody tr th {\n",
              "        vertical-align: top;\n",
              "    }\n",
              "\n",
              "    .dataframe thead th {\n",
              "        text-align: right;\n",
              "    }\n",
              "</style>\n",
              "<table border=\"1\" class=\"dataframe\">\n",
              "  <thead>\n",
              "    <tr style=\"text-align: right;\">\n",
              "      <th></th>\n",
              "      <th>PatientID</th>\n",
              "      <th>Pregnancies</th>\n",
              "      <th>PlasmaGlucose</th>\n",
              "      <th>DiastolicBloodPressure</th>\n",
              "      <th>TricepsThickness</th>\n",
              "      <th>SerumInsulin</th>\n",
              "      <th>BMI</th>\n",
              "      <th>DiabetesPedigree</th>\n",
              "      <th>Age</th>\n",
              "      <th>Diabetic</th>\n",
              "    </tr>\n",
              "  </thead>\n",
              "  <tbody>\n",
              "    <tr>\n",
              "      <th>count</th>\n",
              "      <td>1.500000e+04</td>\n",
              "      <td>15000.000000</td>\n",
              "      <td>15000.000000</td>\n",
              "      <td>15000.000000</td>\n",
              "      <td>15000.000000</td>\n",
              "      <td>15000.000000</td>\n",
              "      <td>15000.000000</td>\n",
              "      <td>15000.000000</td>\n",
              "      <td>15000.000000</td>\n",
              "      <td>15000.000000</td>\n",
              "    </tr>\n",
              "    <tr>\n",
              "      <th>mean</th>\n",
              "      <td>1.502922e+06</td>\n",
              "      <td>3.224533</td>\n",
              "      <td>107.856867</td>\n",
              "      <td>71.220667</td>\n",
              "      <td>28.814000</td>\n",
              "      <td>137.852133</td>\n",
              "      <td>31.509646</td>\n",
              "      <td>0.398968</td>\n",
              "      <td>30.137733</td>\n",
              "      <td>0.333333</td>\n",
              "    </tr>\n",
              "    <tr>\n",
              "      <th>std</th>\n",
              "      <td>2.892534e+05</td>\n",
              "      <td>3.391020</td>\n",
              "      <td>31.981975</td>\n",
              "      <td>16.758716</td>\n",
              "      <td>14.555716</td>\n",
              "      <td>133.068252</td>\n",
              "      <td>9.759000</td>\n",
              "      <td>0.377944</td>\n",
              "      <td>12.089703</td>\n",
              "      <td>0.471420</td>\n",
              "    </tr>\n",
              "    <tr>\n",
              "      <th>min</th>\n",
              "      <td>1.000038e+06</td>\n",
              "      <td>0.000000</td>\n",
              "      <td>44.000000</td>\n",
              "      <td>24.000000</td>\n",
              "      <td>7.000000</td>\n",
              "      <td>14.000000</td>\n",
              "      <td>18.200512</td>\n",
              "      <td>0.078044</td>\n",
              "      <td>21.000000</td>\n",
              "      <td>0.000000</td>\n",
              "    </tr>\n",
              "    <tr>\n",
              "      <th>25%</th>\n",
              "      <td>1.252866e+06</td>\n",
              "      <td>0.000000</td>\n",
              "      <td>84.000000</td>\n",
              "      <td>58.000000</td>\n",
              "      <td>15.000000</td>\n",
              "      <td>39.000000</td>\n",
              "      <td>21.259887</td>\n",
              "      <td>0.137743</td>\n",
              "      <td>22.000000</td>\n",
              "      <td>0.000000</td>\n",
              "    </tr>\n",
              "    <tr>\n",
              "      <th>50%</th>\n",
              "      <td>1.505508e+06</td>\n",
              "      <td>2.000000</td>\n",
              "      <td>104.000000</td>\n",
              "      <td>72.000000</td>\n",
              "      <td>31.000000</td>\n",
              "      <td>83.000000</td>\n",
              "      <td>31.767940</td>\n",
              "      <td>0.200297</td>\n",
              "      <td>24.000000</td>\n",
              "      <td>0.000000</td>\n",
              "    </tr>\n",
              "    <tr>\n",
              "      <th>75%</th>\n",
              "      <td>1.755205e+06</td>\n",
              "      <td>6.000000</td>\n",
              "      <td>129.000000</td>\n",
              "      <td>85.000000</td>\n",
              "      <td>41.000000</td>\n",
              "      <td>195.000000</td>\n",
              "      <td>39.259692</td>\n",
              "      <td>0.616285</td>\n",
              "      <td>35.000000</td>\n",
              "      <td>1.000000</td>\n",
              "    </tr>\n",
              "    <tr>\n",
              "      <th>max</th>\n",
              "      <td>1.999997e+06</td>\n",
              "      <td>14.000000</td>\n",
              "      <td>192.000000</td>\n",
              "      <td>117.000000</td>\n",
              "      <td>93.000000</td>\n",
              "      <td>799.000000</td>\n",
              "      <td>56.034628</td>\n",
              "      <td>2.301594</td>\n",
              "      <td>77.000000</td>\n",
              "      <td>1.000000</td>\n",
              "    </tr>\n",
              "  </tbody>\n",
              "</table>\n",
              "</div>"
            ],
            "text/plain": [
              "          PatientID   Pregnancies  ...           Age      Diabetic\n",
              "count  1.500000e+04  15000.000000  ...  15000.000000  15000.000000\n",
              "mean   1.502922e+06      3.224533  ...     30.137733      0.333333\n",
              "std    2.892534e+05      3.391020  ...     12.089703      0.471420\n",
              "min    1.000038e+06      0.000000  ...     21.000000      0.000000\n",
              "25%    1.252866e+06      0.000000  ...     22.000000      0.000000\n",
              "50%    1.505508e+06      2.000000  ...     24.000000      0.000000\n",
              "75%    1.755205e+06      6.000000  ...     35.000000      1.000000\n",
              "max    1.999997e+06     14.000000  ...     77.000000      1.000000\n",
              "\n",
              "[8 rows x 10 columns]"
            ]
          },
          "metadata": {},
          "execution_count": 5
        }
      ]
    },
    {
      "cell_type": "code",
      "metadata": {
        "colab": {
          "base_uri": "https://localhost:8080/"
        },
        "id": "YWJHob4GAsp9",
        "outputId": "1058f385-677f-435c-ea55-e3c6e438466d"
      },
      "source": [
        "diabetes.info()"
      ],
      "execution_count": 6,
      "outputs": [
        {
          "output_type": "stream",
          "name": "stdout",
          "text": [
            "<class 'pandas.core.frame.DataFrame'>\n",
            "RangeIndex: 15000 entries, 0 to 14999\n",
            "Data columns (total 10 columns):\n",
            " #   Column                  Non-Null Count  Dtype  \n",
            "---  ------                  --------------  -----  \n",
            " 0   PatientID               15000 non-null  int64  \n",
            " 1   Pregnancies             15000 non-null  int64  \n",
            " 2   PlasmaGlucose           15000 non-null  int64  \n",
            " 3   DiastolicBloodPressure  15000 non-null  int64  \n",
            " 4   TricepsThickness        15000 non-null  int64  \n",
            " 5   SerumInsulin            15000 non-null  int64  \n",
            " 6   BMI                     15000 non-null  float64\n",
            " 7   DiabetesPedigree        15000 non-null  float64\n",
            " 8   Age                     15000 non-null  int64  \n",
            " 9   Diabetic                15000 non-null  int64  \n",
            "dtypes: float64(2), int64(8)\n",
            "memory usage: 1.1 MB\n"
          ]
        }
      ]
    },
    {
      "cell_type": "markdown",
      "metadata": {
        "id": "4yZQ2AJ8_CrQ"
      },
      "source": [
        "**Let's separate the features from the labels - we'll call the features X and the label y:**"
      ]
    },
    {
      "cell_type": "code",
      "metadata": {
        "colab": {
          "base_uri": "https://localhost:8080/"
        },
        "id": "Op70f5Ib_yCy",
        "outputId": "cc4ac8fe-65e5-43e5-b23b-2b568a80be41"
      },
      "source": [
        "diabetes.columns"
      ],
      "execution_count": 2,
      "outputs": [
        {
          "output_type": "execute_result",
          "data": {
            "text/plain": [
              "Index(['PatientID', 'Pregnancies', 'PlasmaGlucose', 'DiastolicBloodPressure',\n",
              "       'TricepsThickness', 'SerumInsulin', 'BMI', 'DiabetesPedigree', 'Age',\n",
              "       'Diabetic'],\n",
              "      dtype='object')"
            ]
          },
          "metadata": {},
          "execution_count": 2
        }
      ]
    },
    {
      "cell_type": "code",
      "metadata": {
        "colab": {
          "base_uri": "https://localhost:8080/"
        },
        "id": "5DuRUyw8__bb",
        "outputId": "6c324894-e44e-4497-8863-83d34d912a24"
      },
      "source": [
        "features = ['Pregnancies','PlasmaGlucose','DiastolicBloodPressure','TricepsThickness','SerumInsulin','BMI','DiabetesPedigree', 'Age']\n",
        "label ='Diabetic'\n",
        "X,y = diabetes[features].values, diabetes[label].values"
      ],
      "execution_count": 4,
      "outputs": [
        {
          "output_type": "execute_result",
          "data": {
            "text/plain": [
              "array([[0.00000000e+00, 1.71000000e+02, 8.00000000e+01, 3.40000000e+01,\n",
              "        2.30000000e+01, 4.35097259e+01, 1.21319135e+00, 2.10000000e+01],\n",
              "       [8.00000000e+00, 9.20000000e+01, 9.30000000e+01, 4.70000000e+01,\n",
              "        3.60000000e+01, 2.12405757e+01, 1.58364981e-01, 2.30000000e+01],\n",
              "       [7.00000000e+00, 1.15000000e+02, 4.70000000e+01, 5.20000000e+01,\n",
              "        3.50000000e+01, 4.15115235e+01, 7.90185680e-02, 2.30000000e+01],\n",
              "       [9.00000000e+00, 1.03000000e+02, 7.80000000e+01, 2.50000000e+01,\n",
              "        3.04000000e+02, 2.95821919e+01, 1.28286985e+00, 4.30000000e+01]])"
            ]
          },
          "metadata": {},
          "execution_count": 4
        }
      ]
    },
    {
      "cell_type": "markdown",
      "metadata": {
        "id": "BU56SUI2A8m5"
      },
      "source": [
        "Now let's compare the feature distributions for each label value."
      ]
    },
    {
      "cell_type": "code",
      "metadata": {
        "colab": {
          "base_uri": "https://localhost:8080/",
          "height": 1000
        },
        "id": "m7QLWrc4Awdk",
        "outputId": "6c172328-8ac8-4672-f34c-6bb709b365d0"
      },
      "source": [
        "from matplotlib import pyplot as plt\n",
        "%matplotlib inline\n",
        "\n",
        "features = ['Pregnancies','PlasmaGlucose','DiastolicBloodPressure','TricepsThickness','SerumInsulin','BMI','DiabetesPedigree', 'Age']\n",
        "\n",
        "for col in features:\n",
        "  diabetes.boxplot(column=col,by='Diabetic',figsize=(6,6))\n",
        "  plt.title(col)\n",
        "plt.show()"
      ],
      "execution_count": 8,
      "outputs": [
        {
          "output_type": "stream",
          "name": "stderr",
          "text": [
            "/usr/local/lib/python3.7/dist-packages/numpy/core/_asarray.py:83: VisibleDeprecationWarning: Creating an ndarray from ragged nested sequences (which is a list-or-tuple of lists-or-tuples-or ndarrays with different lengths or shapes) is deprecated. If you meant to do this, you must specify 'dtype=object' when creating the ndarray\n",
            "  return array(a, dtype, copy=False, order=order)\n",
            "/usr/local/lib/python3.7/dist-packages/numpy/core/_asarray.py:83: VisibleDeprecationWarning: Creating an ndarray from ragged nested sequences (which is a list-or-tuple of lists-or-tuples-or ndarrays with different lengths or shapes) is deprecated. If you meant to do this, you must specify 'dtype=object' when creating the ndarray\n",
            "  return array(a, dtype, copy=False, order=order)\n",
            "/usr/local/lib/python3.7/dist-packages/numpy/core/_asarray.py:83: VisibleDeprecationWarning: Creating an ndarray from ragged nested sequences (which is a list-or-tuple of lists-or-tuples-or ndarrays with different lengths or shapes) is deprecated. If you meant to do this, you must specify 'dtype=object' when creating the ndarray\n",
            "  return array(a, dtype, copy=False, order=order)\n",
            "/usr/local/lib/python3.7/dist-packages/numpy/core/_asarray.py:83: VisibleDeprecationWarning: Creating an ndarray from ragged nested sequences (which is a list-or-tuple of lists-or-tuples-or ndarrays with different lengths or shapes) is deprecated. If you meant to do this, you must specify 'dtype=object' when creating the ndarray\n",
            "  return array(a, dtype, copy=False, order=order)\n",
            "/usr/local/lib/python3.7/dist-packages/numpy/core/_asarray.py:83: VisibleDeprecationWarning: Creating an ndarray from ragged nested sequences (which is a list-or-tuple of lists-or-tuples-or ndarrays with different lengths or shapes) is deprecated. If you meant to do this, you must specify 'dtype=object' when creating the ndarray\n",
            "  return array(a, dtype, copy=False, order=order)\n",
            "/usr/local/lib/python3.7/dist-packages/numpy/core/_asarray.py:83: VisibleDeprecationWarning: Creating an ndarray from ragged nested sequences (which is a list-or-tuple of lists-or-tuples-or ndarrays with different lengths or shapes) is deprecated. If you meant to do this, you must specify 'dtype=object' when creating the ndarray\n",
            "  return array(a, dtype, copy=False, order=order)\n",
            "/usr/local/lib/python3.7/dist-packages/numpy/core/_asarray.py:83: VisibleDeprecationWarning: Creating an ndarray from ragged nested sequences (which is a list-or-tuple of lists-or-tuples-or ndarrays with different lengths or shapes) is deprecated. If you meant to do this, you must specify 'dtype=object' when creating the ndarray\n",
            "  return array(a, dtype, copy=False, order=order)\n",
            "/usr/local/lib/python3.7/dist-packages/numpy/core/_asarray.py:83: VisibleDeprecationWarning: Creating an ndarray from ragged nested sequences (which is a list-or-tuple of lists-or-tuples-or ndarrays with different lengths or shapes) is deprecated. If you meant to do this, you must specify 'dtype=object' when creating the ndarray\n",
            "  return array(a, dtype, copy=False, order=order)\n"
          ]
        },
        {
          "output_type": "display_data",
          "data": {
            "image/png": "[encoded data removed]",
            "text/plain": [
              "<Figure size 432x432 with 1 Axes>"
            ]
          },
          "metadata": {
            "needs_background": "light"
          }
        },
        {
          "output_type": "display_data",
          "data": {
            "image/png": "[encoded data removed]",
            "text/plain": [
              "<Figure size 432x432 with 1 Axes>"
            ]
          },
          "metadata": {
            "needs_background": "light"
          }
        },
        {
          "output_type": "display_data",
          "data": {
            "image/png": "[encoded data removed]",
            "text/plain": [
              "<Figure size 432x432 with 1 Axes>"
            ]
          },
          "metadata": {
            "needs_background": "light"
          }
        },
        {
          "output_type": "display_data",
          "data": {
            "image/png": "[encoded data removed]",
            "text/plain": [
              "<Figure size 432x432 with 1 Axes>"
            ]
          },
          "metadata": {
            "needs_background": "light"
          }
        },
        {
          "output_type": "display_data",
          "data": {
            "image/png": "[encoded data removed]",
            "text/plain": [
              "<Figure size 432x432 with 1 Axes>"
            ]
          },
          "metadata": {
            "needs_background": "light"
          }
        },
        {
          "output_type": "display_data",
          "data": {
            "image/png": "[encoded data removed]",
            "text/plain": [
              "<Figure size 432x432 with 1 Axes>"
            ]
          },
          "metadata": {
            "needs_background": "light"
          }
        },
        {
          "output_type": "display_data",
          "data": {
            "image/png": "[encoded data removed]",
            "text/plain": [
              "<Figure size 432x432 with 1 Axes>"
            ]
          },
          "metadata": {
            "needs_background": "light"
          }
        },
        {
          "output_type": "display_data",
          "data": {
            "image/png": "[encoded data removed]",
            "text/plain": [
              "<Figure size 432x432 with 1 Axes>"
            ]
          },
          "metadata": {
            "needs_background": "light"
          }
        }
      ]
    },
    {
      "cell_type": "markdown",
      "metadata": {
        "id": "T1epSwjDE55d"
      },
      "source": [
        "Splitting the data"
      ]
    },
    {
      "cell_type": "code",
      "metadata": {
        "colab": {
          "base_uri": "https://localhost:8080/"
        },
        "id": "3FPJl7IsE4_l",
        "outputId": "7fb65ee2-d5d3-4885-fc41-203d4116ac0c"
      },
      "source": [
        "from sklearn.model_selection import train_test_split\n",
        "X_train,X_test,y_train,y_test = train_test_split(X,y,test_size =0.3,random_state=0)\n",
        "X_train.shape,X_test.shape"
      ],
      "execution_count": 10,
      "outputs": [
        {
          "output_type": "execute_result",
          "data": {
            "text/plain": [
              "((10500, 8), (4500, 8))"
            ]
          },
          "metadata": {},
          "execution_count": 10
        }
      ]
    },
    {
      "cell_type": "markdown",
      "metadata": {
        "id": "yr5dOeFLFU5h"
      },
      "source": [
        "Train and evaluate classification model"
      ]
    },
    {
      "cell_type": "code",
      "metadata": {
        "colab": {
          "base_uri": "https://localhost:8080/"
        },
        "id": "7hbgkXmLFYup",
        "outputId": "6a3e3969-d92c-4660-d945-156ea8f706dd"
      },
      "source": [
        "from sklearn.linear_model import LogisticRegression\n",
        "\n",
        "reg= 0.01\n",
        "model = LogisticRegression(C=1/reg, solver='liblinear')\n",
        "model.fit(X_train,y_train)\n",
        "model"
      ],
      "execution_count": 12,
      "outputs": [
        {
          "output_type": "execute_result",
          "data": {
            "text/plain": [
              "LogisticRegression(C=100.0, class_weight=None, dual=False, fit_intercept=True,\n",
              "                   intercept_scaling=1, l1_ratio=None, max_iter=100,\n",
              "                   multi_class='auto', n_jobs=None, penalty='l2',\n",
              "                   random_state=None, solver='liblinear', tol=0.0001, verbose=0,\n",
              "                   warm_start=False)"
            ]
          },
          "metadata": {},
          "execution_count": 12
        }
      ]
    },
    {
      "cell_type": "code",
      "metadata": {
        "colab": {
          "base_uri": "https://localhost:8080/"
        },
        "id": "W0nPTeWfF2N_",
        "outputId": "ecd119e3-3f6d-47c5-ab6a-81668815284d"
      },
      "source": [
        "# Predictions\n",
        "predictions = model.predict(X_test)\n",
        "predictions,y_test"
      ],
      "execution_count": 14,
      "outputs": [
        {
          "output_type": "execute_result",
          "data": {
            "text/plain": [
              "(array([0, 0, 0, ..., 0, 1, 0]), array([0, 0, 1, ..., 1, 1, 1]))"
            ]
          },
          "metadata": {},
          "execution_count": 14
        }
      ]
    },
    {
      "cell_type": "markdown",
      "metadata": {
        "id": "PA_hPb5WGGvg"
      },
      "source": [
        "Checking the accuracy of the predictions"
      ]
    },
    {
      "cell_type": "code",
      "metadata": {
        "colab": {
          "base_uri": "https://localhost:8080/"
        },
        "id": "UMk83lYAGIvp",
        "outputId": "0643464e-510b-4b58-fef9-a86a057b560e"
      },
      "source": [
        "from sklearn.metrics import accuracy_score\n",
        "accuracy_score(y_test,predictions)"
      ],
      "execution_count": 16,
      "outputs": [
        {
          "output_type": "execute_result",
          "data": {
            "text/plain": [
              "0.7893333333333333"
            ]
          },
          "metadata": {},
          "execution_count": 16
        }
      ]
    },
    {
      "cell_type": "markdown",
      "metadata": {
        "id": "tAjKmmPbGY-_"
      },
      "source": [
        "**Classification report**"
      ]
    },
    {
      "cell_type": "code",
      "metadata": {
        "colab": {
          "base_uri": "https://localhost:8080/"
        },
        "id": "bwq6_UGHGb1-",
        "outputId": "1c854458-ebbd-49f4-ab97-0a9502450e64"
      },
      "source": [
        "from sklearn.metrics import classification_report\n",
        "print(classification_report(y_test,predictions))"
      ],
      "execution_count": 18,
      "outputs": [
        {
          "output_type": "stream",
          "name": "stdout",
          "text": [
            "              precision    recall  f1-score   support\n",
            "\n",
            "           0       0.81      0.88      0.85      2986\n",
            "           1       0.72      0.60      0.66      1514\n",
            "\n",
            "    accuracy                           0.79      4500\n",
            "   macro avg       0.77      0.74      0.75      4500\n",
            "weighted avg       0.78      0.79      0.78      4500\n",
            "\n"
          ]
        }
      ]
    },
    {
      "cell_type": "markdown",
      "metadata": {
        "id": "hOavlkZHJbQc"
      },
      "source": [
        "The precision and recall metrics are derived from four possible prediction outcomes:\n",
        "* *True Positives*: The predicted label and the actual label are both 1.\n",
        "* *False Positives*: The predicted label is 1, but the actual label is 0.\n",
        "* *False Negatives*: The predicted label is 0, but the actual label is 1.\n",
        "* *True Negatives*: The predicted label and the actual label are both 0.\n",
        "\n",
        "These metrics are generally tabulated for the test set and shown together as a *confusion matrix*, which takes the following form:\n",
        "\n",
        "<table style=\"border: 1px solid black;\">\n",
        "    <tr style=\"border: 1px solid black;\">\n",
        "        <td style=\"border: 1px solid black;color: black;\" bgcolor=\"lightgray\">TN</td><td style=\"border: 1px solid black;color: black;\" bgcolor=\"white\">FP</td>\n",
        "    </tr>\n",
        "    <tr style=\"border: 1px solid black;\">\n",
        "        <td style=\"border: 1px solid black;color: black;\" bgcolor=\"white\">FN</td><td style=\"border: 1px solid black;color: black;\" bgcolor=\"lightgray\">TP</td>\n",
        "    </tr>\n",
        "</table>\n",
        "\n",
        "Note that the correct (*true*) predictions form a diagonal line from top left to bottom right - these figures should be significantly higher than the *false* predictions if the model is any good.\n",
        "\n",
        "In Python, you can use the **sklearn.metrics.confusion_matrix** function to find these values for a trained classifier:"
      ]
    },
    {
      "cell_type": "code",
      "metadata": {
        "colab": {
          "base_uri": "https://localhost:8080/"
        },
        "id": "cowmzCGWJ6WS",
        "outputId": "b7472abe-efc1-4f1a-d457-4bd4ab9af2eb"
      },
      "source": [
        "# Precision score and re-call score\n",
        "from sklearn.metrics import precision_score,recall_score,precision_recall_curve\n",
        "precision_score(y_test,predictions),recall_score(y_test,predictions)"
      ],
      "execution_count": 21,
      "outputs": [
        {
          "output_type": "execute_result",
          "data": {
            "text/plain": [
              "(0.7242472266244057, 0.6036988110964333)"
            ]
          },
          "metadata": {},
          "execution_count": 21
        }
      ]
    },
    {
      "cell_type": "code",
      "metadata": {
        "colab": {
          "base_uri": "https://localhost:8080/"
        },
        "id": "n0oi3Kl2KU3H",
        "outputId": "7d6e317b-dcfb-4665-df68-ac0ed6e57ede"
      },
      "source": [
        "# Confusion matrix\n",
        "from sklearn.metrics import confusion_matrix\n",
        "\n",
        "# Print the confusion matrix\n",
        "cm = confusion_matrix(y_test, predictions)\n",
        "print (cm)"
      ],
      "execution_count": 22,
      "outputs": [
        {
          "output_type": "stream",
          "name": "stdout",
          "text": [
            "[[2638  348]\n",
            " [ 600  914]]\n"
          ]
        }
      ]
    },
    {
      "cell_type": "markdown",
      "metadata": {
        "id": "k6WO7s9jVD7Y"
      },
      "source": [
        "Plotting ROC Curve"
      ]
    },
    {
      "cell_type": "code",
      "metadata": {
        "colab": {
          "base_uri": "https://localhost:8080/"
        },
        "id": "XY7fbBuuVP53",
        "outputId": "d4c26ac0-f223-4abd-f6c9-66eff752a7af"
      },
      "source": [
        "y_scores = model.predict_proba(X_test)\n",
        "print(y_scores)"
      ],
      "execution_count": 25,
      "outputs": [
        {
          "output_type": "stream",
          "name": "stdout",
          "text": [
            "[[0.81657749 0.18342251]\n",
            " [0.96303915 0.03696085]\n",
            " [0.80873957 0.19126043]\n",
            " ...\n",
            " [0.60693276 0.39306724]\n",
            " [0.1065467  0.8934533 ]\n",
            " [0.63858497 0.36141503]]\n"
          ]
        }
      ]
    },
    {
      "cell_type": "code",
      "metadata": {
        "colab": {
          "base_uri": "https://localhost:8080/",
          "height": 404
        },
        "id": "0rDUkTm5VCZj",
        "outputId": "22c23548-922f-46e0-de26-5a40e2b4fe34"
      },
      "source": [
        "## Plot\n",
        "from sklearn.metrics import roc_curve\n",
        "from sklearn.metrics import confusion_matrix\n",
        "import matplotlib\n",
        "import matplotlib.pyplot as plt\n",
        "%matplotlib inline\n",
        "\n",
        "# calculate ROC curve\n",
        "fpr, tpr, thresholds = roc_curve(y_test, y_scores[:,1])\n",
        "\n",
        "# plot ROC curve\n",
        "fig = plt.figure(figsize=(6, 6))\n",
        "# Plot the diagonal 50% line\n",
        "plt.plot([0, 1], [0, 1], 'k--')\n",
        "# Plot the FPR and TPR achieved by our model\n",
        "plt.plot(fpr, tpr)\n",
        "plt.xlabel('False Positive Rate')\n",
        "plt.ylabel('True Positive Rate')\n",
        "plt.title('ROC Curve')\n",
        "plt.show()"
      ],
      "execution_count": 26,
      "outputs": [
        {
          "output_type": "display_data",
          "data": {
            "image/png": "[encoded data removed]",
            "text/plain": [
              "<Figure size 432x432 with 1 Axes>"
            ]
          },
          "metadata": {
            "needs_background": "light"
          }
        }
      ]
    },
    {
      "cell_type": "markdown",
      "metadata": {
        "id": "eJoAttreVaFP"
      },
      "source": [
        "The ROC chart shows the curve of the true and false positive rates for different threshold values between 0 and 1. A perfect classifier would have a curve that goes straight up the left side and straight across the top. The diagonal line across the chart represents the probability of predicting correctly with a 50/50 random prediction; so you obviously want the curve to be higher than that (or your model is no better than simply guessing!).\n",
        "\n",
        "The area under the curve (AUC) is a value between 0 and 1 that quantifies the overall performance of the model. The closer to 1 this value is, the better the model. Once again, scikit-Learn includes a function to calculate this metric."
      ]
    },
    {
      "cell_type": "markdown",
      "metadata": {
        "id": "YgJ93IeSVZza"
      },
      "source": [
        "AUC score"
      ]
    },
    {
      "cell_type": "code",
      "metadata": {
        "colab": {
          "base_uri": "https://localhost:8080/"
        },
        "id": "6wX4j4PTVgOt",
        "outputId": "bd93edad-9f29-4285-c748-3060f414ede8"
      },
      "source": [
        "from sklearn.metrics import roc_auc_score\n",
        "auc = roc_auc_score(y_test,y_scores[:,1])\n",
        "auc"
      ],
      "execution_count": 29,
      "outputs": [
        {
          "output_type": "execute_result",
          "data": {
            "text/plain": [
              "0.8568436056949161"
            ]
          },
          "metadata": {},
          "execution_count": 29
        }
      ]
    },
    {
      "cell_type": "markdown",
      "metadata": {
        "id": "bqJ9nu5OfJu_"
      },
      "source": [
        "Now, that we have perfomred modelling in a simple way, without any pre-processing.\n",
        "Let's perform pre-procesing"
      ]
    },
    {
      "cell_type": "code",
      "metadata": {
        "id": "eY1zgmbifS_I"
      },
      "source": [
        "from sklearn.compose import ColumnTransformer\n",
        "from sklearn.pipeline import Pipeline\n",
        "from sklearn.preprocessing import StandardScaler,OneHotEncoder\n",
        "from sklearn.linear_model import LogisticRegression\n",
        "import numpy as np"
      ],
      "execution_count": 31,
      "outputs": []
    },
    {
      "cell_type": "code",
      "metadata": {
        "colab": {
          "base_uri": "https://localhost:8080/"
        },
        "id": "_dpipdocjr9D",
        "outputId": "98c2f527-8ff0-46d7-c400-5bbe8ed981f8"
      },
      "source": [
        "numeric_features =[0,1,2,3,4,5,6]\n",
        "numeric_transformer = Pipeline(steps=[('scaler',StandardScaler())])\n",
        "\n",
        "categorical_features =[7]\n",
        "categorical_transformer = Pipeline(steps=[('onehot',OneHotEncoder(handle_unknown='ignore'))])\n",
        "\n",
        "preprocessor = ColumnTransformer(\n",
        "    transformers =[\n",
        "                  ('num',numeric_transformer,numeric_features),\n",
        "                  ('cat',categorical_transformer,categorical_features)\n",
        "    ])\n",
        "pipeline = Pipeline(steps=[('preprocessor',preprocessor),\n",
        "                          ('logregressor',LogisticRegression(C=1/reg,solver='liblinear')) \n",
        "                           ])\n",
        "\n",
        "model = pipeline.fit(X_train,y_train)\n",
        "print(model)\n",
        "\n"
      ],
      "execution_count": 35,
      "outputs": [
        {
          "output_type": "stream",
          "name": "stdout",
          "text": [
            "Pipeline(memory=None,\n",
            "         steps=[('preprocessor',\n",
            "                 ColumnTransformer(n_jobs=None, remainder='drop',\n",
            "                                   sparse_threshold=0.3,\n",
            "                                   transformer_weights=None,\n",
            "                                   transformers=[('num',\n",
            "                                                  Pipeline(memory=None,\n",
            "                                                           steps=[('scaler',\n",
            "                                                                   StandardScaler(copy=True,\n",
            "                                                                                  with_mean=True,\n",
            "                                                                                  with_std=True))],\n",
            "                                                           verbose=False),\n",
            "                                                  [0, 1, 2, 3, 4, 5, 6]),\n",
            "                                                 ('cat',\n",
            "                                                  Pipeline(memory=None,\n",
            "                                                           steps=[('onehot',\n",
            "                                                                   OneHotEncoder(catego...\n",
            "                                                                                 handle_unknown='ignore',\n",
            "                                                                                 sparse=True))],\n",
            "                                                           verbose=False),\n",
            "                                                  [7])],\n",
            "                                   verbose=False)),\n",
            "                ('logregressor',\n",
            "                 LogisticRegression(C=100.0, class_weight=None, dual=False,\n",
            "                                    fit_intercept=True, intercept_scaling=1,\n",
            "                                    l1_ratio=None, max_iter=100,\n",
            "                                    multi_class='auto', n_jobs=None,\n",
            "                                    penalty='l2', random_state=None,\n",
            "                                    solver='liblinear', tol=0.0001, verbose=0,\n",
            "                                    warm_start=False))],\n",
            "         verbose=False)\n"
          ]
        }
      ]
    },
    {
      "cell_type": "code",
      "metadata": {
        "colab": {
          "base_uri": "https://localhost:8080/",
          "height": 545
        },
        "id": "owQy4sb8lnfK",
        "outputId": "fb6d3d10-b805-4f8a-c616-8528406f6e35"
      },
      "source": [
        "# Get predictions from test data\n",
        "predictions = model.predict(X_test)\n",
        "y_scores = model.predict_proba(X_test)\n",
        "\n",
        "# Get evaluation metrics\n",
        "cm = confusion_matrix(y_test, predictions)\n",
        "print ('Confusion Matrix:\\n',cm, '\\n')\n",
        "print('Accuracy:', accuracy_score(y_test, predictions))\n",
        "print(\"Overall Precision:\",precision_score(y_test, predictions))\n",
        "print(\"Overall Recall:\",recall_score(y_test, predictions))\n",
        "auc = roc_auc_score(y_test,y_scores[:,1])\n",
        "print('AUC: ' + str(auc))\n",
        "\n",
        "# calculate ROC curve\n",
        "fpr, tpr, thresholds = roc_curve(y_test, y_scores[:,1])\n",
        "\n",
        "# plot ROC curve\n",
        "fig = plt.figure(figsize=(6, 6))\n",
        "# Plot the diagonal 50% line\n",
        "plt.plot([0, 1], [0, 1], 'k--')\n",
        "# Plot the FPR and TPR achieved by our model\n",
        "plt.plot(fpr, tpr)\n",
        "plt.xlabel('False Positive Rate')\n",
        "plt.ylabel('True Positive Rate')\n",
        "plt.title('ROC Curve')\n",
        "plt.show()\n",
        "\n"
      ],
      "execution_count": 36,
      "outputs": [
        {
          "output_type": "stream",
          "name": "stdout",
          "text": [
            "Confusion Matrix:\n",
            " [[2667  319]\n",
            " [ 406 1108]] \n",
            "\n",
            "Accuracy: 0.8388888888888889\n",
            "Overall Precision: 0.7764540995094604\n",
            "Overall Recall: 0.7318361955085865\n",
            "AUC: 0.9202438327341774\n"
          ]
        },
        {
          "output_type": "display_data",
          "data": {
            "image/png": "[encoded data removed]",
            "text/plain": [
              "<Figure size 432x432 with 1 Axes>"
            ]
          },
          "metadata": {
            "needs_background": "light"
          }
        }
      ]
    },
    {
      "cell_type": "markdown",
      "metadata": {
        "id": "5nu70bYLlq57"
      },
      "source": [
        "Trying different algorithm"
      ]
    },
    {
      "cell_type": "code",
      "metadata": {
        "id": "Y1FLbKCGlqRd"
      },
      "source": [
        "from sklearn.ensemble import RandomForestClassifier\n",
        "\n",
        "pipeline = Pipeline(steps=[('preprocessor',preprocessor),\n",
        "                           ('logregresor',RandomForestClassifier(n_estimators=100))])\n",
        "\n",
        "model = pipeline.fit(X_train,y_train)"
      ],
      "execution_count": 38,
      "outputs": []
    },
    {
      "cell_type": "code",
      "metadata": {
        "colab": {
          "base_uri": "https://localhost:8080/",
          "height": 562
        },
        "id": "p-xfMjnqmHJR",
        "outputId": "e0c83d38-b51d-49af-9648-cc1b8f005eb8"
      },
      "source": [
        "predictions = model.predict(X_test)\n",
        "y_scores = model.predict_proba(X_test)\n",
        "cm = confusion_matrix(y_test, predictions)\n",
        "print ('Confusion Matrix:\\n',cm, '\\n')\n",
        "print('Accuracy:', accuracy_score(y_test, predictions))\n",
        "print(\"Overall Precision:\",precision_score(y_test, predictions))\n",
        "print(\"Overall Recall:\",recall_score(y_test, predictions))\n",
        "auc = roc_auc_score(y_test,y_scores[:,1])\n",
        "print('\\nAUC: ' + str(auc))\n",
        "\n",
        "# calculate ROC curve\n",
        "fpr, tpr, thresholds = roc_curve(y_test, y_scores[:,1])\n",
        "\n",
        "# plot ROC curve\n",
        "fig = plt.figure(figsize=(6, 6))\n",
        "# Plot the diagonal 50% line\n",
        "plt.plot([0, 1], [0, 1], 'k--')\n",
        "# Plot the FPR and TPR achieved by our model\n",
        "plt.plot(fpr, tpr)\n",
        "plt.xlabel('False Positive Rate')\n",
        "plt.ylabel('True Positive Rate')\n",
        "plt.title('ROC Curve')\n",
        "plt.show()"
      ],
      "execution_count": 39,
      "outputs": [
        {
          "output_type": "stream",
          "name": "stdout",
          "text": [
            "Confusion Matrix:\n",
            " [[2859  127]\n",
            " [ 181 1333]] \n",
            "\n",
            "Accuracy: 0.9315555555555556\n",
            "Overall Precision: 0.913013698630137\n",
            "Overall Recall: 0.880449141347424\n",
            "\n",
            "AUC: 0.9823331203918596\n"
          ]
        },
        {
          "output_type": "display_data",
          "data": {
            "image/png": "[encoded data removed]",
            "text/plain": [
              "<Figure size 432x432 with 1 Axes>"
            ]
          },
          "metadata": {
            "needs_background": "light"
          }
        }
      ]
    }
  ]
}